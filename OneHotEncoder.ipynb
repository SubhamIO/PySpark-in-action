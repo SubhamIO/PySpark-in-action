{
 "cells": [
  {
   "cell_type": "code",
   "execution_count": null,
   "metadata": {
    "colab": {},
    "colab_type": "code",
    "id": "ub4Ez52ks63w"
   },
   "outputs": [],
   "source": [
    "from __future__ import print_function\n",
    "import findspark\n",
    "findspark.init()\n",
    "findspark.find()\n",
    "import pyspark\n",
    "findspark.find()\n",
    "from pyspark.sql import SparkSession\n",
    "from pyspark.ml.feature import OneHotEncoder,StringIndexer"
   ]
  },
  {
   "cell_type": "code",
   "execution_count": null,
   "metadata": {
    "colab": {},
    "colab_type": "code",
    "id": "xOhHsD2Js630"
   },
   "outputs": [],
   "source": [
    "if __name__ == \"__main__\":\n",
    "    spark = SparkSession\\\n",
    "        .builder\\\n",
    "        .appName(\"OneHotEncoder\")\\\n",
    "        .getOrCreate()"
   ]
  },
  {
   "cell_type": "code",
   "execution_count": null,
   "metadata": {
    "colab": {},
    "colab_type": "code",
    "id": "U6WnWqr4s638"
   },
   "outputs": [],
   "source": [
    "data = spark.createDataFrame([\n",
    "        (0,\"Good\"),\n",
    "        (1,\"Bad\"),\n",
    "        (2,\"Good\"),\n",
    "        (3,\"Good\"),\n",
    "        (4,\"Bad\"),\n",
    "        (5,\"Good\")\n",
    "    ], [\"id\",\"category1\"])"
   ]
  },
  {
   "cell_type": "code",
   "execution_count": null,
   "metadata": {
    "colab": {},
    "colab_type": "code",
    "id": "pgOKQTugs64A",
    "outputId": "fe3a9b4b-b180-4da7-c62f-551f5164b291"
   },
   "outputs": [
    {
     "name": "stdout",
     "output_type": "stream",
     "text": [
      "+---+---------+\n",
      "| id|category1|\n",
      "+---+---------+\n",
      "|  0|     Good|\n",
      "|  1|      Bad|\n",
      "|  2|     Good|\n",
      "|  3|     Good|\n",
      "|  4|      Bad|\n",
      "|  5|     Good|\n",
      "+---+---------+\n",
      "\n"
     ]
    }
   ],
   "source": [
    "data.show()"
   ]
  },
  {
   "cell_type": "code",
   "execution_count": null,
   "metadata": {
    "colab": {},
    "colab_type": "code",
    "id": "ovriNeXBs64E",
    "outputId": "54f71670-4ad9-406a-87ae-ca4d19a44859"
   },
   "outputs": [
    {
     "name": "stdout",
     "output_type": "stream",
     "text": [
      "root\n",
      " |-- id: long (nullable = true)\n",
      " |-- category1: string (nullable = true)\n",
      "\n"
     ]
    }
   ],
   "source": [
    "data.printSchema()"
   ]
  },
  {
   "cell_type": "code",
   "execution_count": null,
   "metadata": {
    "colab": {},
    "colab_type": "code",
    "id": "dNclMr90s64K"
   },
   "outputs": [],
   "source": [
    "# one hot encoder require array type abject so if we pass our columns right now it will give an error.\n",
    "\n",
    "# we will use stringIndexer first then will apply oneHotEncoder"
   ]
  },
  {
   "cell_type": "markdown",
   "metadata": {},
   "source": [
    "## Label Encoder or String Indexer"
   ]
  },
  {
   "cell_type": "code",
   "execution_count": null,
   "metadata": {
    "colab": {},
    "colab_type": "code",
    "id": "ZYsSIo7fs64P"
   },
   "outputs": [],
   "source": [
    "indexer = StringIndexer(inputCol=\"category1\", outputCol=\"category_index\")"
   ]
  },
  {
   "cell_type": "code",
   "execution_count": null,
   "metadata": {
    "colab": {},
    "colab_type": "code",
    "id": "H-XOQ0Jis64U",
    "outputId": "470d403d-8024-485b-b273-8f2e134e6dde"
   },
   "outputs": [
    {
     "name": "stdout",
     "output_type": "stream",
     "text": [
      "+---+---------+--------------+\n",
      "| id|category1|category_index|\n",
      "+---+---------+--------------+\n",
      "|  0|     Good|           0.0|\n",
      "|  1|      Bad|           1.0|\n",
      "|  2|     Good|           0.0|\n",
      "|  3|     Good|           0.0|\n",
      "|  4|      Bad|           1.0|\n",
      "|  5|     Good|           0.0|\n",
      "+---+---------+--------------+\n",
      "\n"
     ]
    }
   ],
   "source": [
    "indexed = indexer.fit(data).transform(data)\n",
    "indexed.show()"
   ]
  },
  {
   "cell_type": "markdown",
   "metadata": {},
   "source": [
    "## One Hot Encoder"
   ]
  },
  {
   "cell_type": "code",
   "execution_count": null,
   "metadata": {
    "colab": {},
    "colab_type": "code",
    "id": "EtMtjGTms64a"
   },
   "outputs": [],
   "source": [
    "encoder = OneHotEncoder(inputCol=\"category_index\", outputCol=\"category_encode\")"
   ]
  },
  {
   "cell_type": "code",
   "execution_count": null,
   "metadata": {
    "colab": {},
    "colab_type": "code",
    "id": "kO0vNFnGs64d"
   },
   "outputs": [],
   "source": [
    "encoded = encoder.transform(indexed)"
   ]
  },
  {
   "cell_type": "code",
   "execution_count": null,
   "metadata": {
    "colab": {},
    "colab_type": "code",
    "id": "aJJBbWYds64g",
    "outputId": "1ea449dd-3c62-4296-962d-64ba6b6fc714"
   },
   "outputs": [
    {
     "name": "stdout",
     "output_type": "stream",
     "text": [
      "+---+---------+--------------+---------------+\n",
      "| id|category1|category_index|category_encode|\n",
      "+---+---------+--------------+---------------+\n",
      "|  0|     Good|           0.0|  (1,[0],[1.0])|\n",
      "|  1|      Bad|           1.0|      (1,[],[])|\n",
      "|  2|     Good|           0.0|  (1,[0],[1.0])|\n",
      "|  3|     Good|           0.0|  (1,[0],[1.0])|\n",
      "|  4|      Bad|           1.0|      (1,[],[])|\n",
      "|  5|     Good|           0.0|  (1,[0],[1.0])|\n",
      "+---+---------+--------------+---------------+\n",
      "\n"
     ]
    }
   ],
   "source": [
    "encoded.show()"
   ]
  },
  {
   "cell_type": "code",
   "execution_count": null,
   "metadata": {
    "colab": {},
    "colab_type": "code",
    "id": "2DhMR5P0s65W"
   },
   "outputs": [],
   "source": [
    "# let's take an example with categories"
   ]
  },
  {
   "cell_type": "code",
   "execution_count": null,
   "metadata": {
    "colab": {},
    "colab_type": "code",
    "id": "7WiRMMkEs65c"
   },
   "outputs": [],
   "source": [
    "data1 = spark.createDataFrame([\n",
    "        (0,\"Good\"),\n",
    "        (1,\"Bad\"),\n",
    "        (2,\"Good\"),\n",
    "        (3,\"Average\"),\n",
    "        (4,\"Bad\"),\n",
    "        (5,\"Good\"),\n",
    "        (6,\"Average\"),\n",
    "        (7,\"Average\"),\n",
    "        (8,\"Average\")\n",
    "    ], [\"id\",\"category1\"])"
   ]
  },
  {
   "cell_type": "code",
   "execution_count": null,
   "metadata": {
    "colab": {},
    "colab_type": "code",
    "id": "KPyOCnZKs65f",
    "outputId": "6c966f18-8871-4824-87f5-10ec0493767a"
   },
   "outputs": [
    {
     "name": "stdout",
     "output_type": "stream",
     "text": [
      "+---+---------+\n",
      "| id|category1|\n",
      "+---+---------+\n",
      "|  0|     Good|\n",
      "|  1|      Bad|\n",
      "|  2|     Good|\n",
      "|  3|  Average|\n",
      "|  4|      Bad|\n",
      "|  5|     Good|\n",
      "|  6|  Average|\n",
      "|  7|  Average|\n",
      "|  8|  Average|\n",
      "+---+---------+\n",
      "\n"
     ]
    }
   ],
   "source": [
    "data1.show()"
   ]
  },
  {
   "cell_type": "markdown",
   "metadata": {},
   "source": [
    "## Label Encoder or String Indexer"
   ]
  },
  {
   "cell_type": "code",
   "execution_count": null,
   "metadata": {
    "colab": {},
    "colab_type": "code",
    "id": "CWPeiA9Ks65i"
   },
   "outputs": [],
   "source": [
    "indexer = StringIndexer(inputCol=\"category1\", outputCol=\"category_index\")"
   ]
  },
  {
   "cell_type": "code",
   "execution_count": null,
   "metadata": {
    "colab": {},
    "colab_type": "code",
    "id": "62DMFgOOs65k",
    "outputId": "c7f0f3e4-adb2-4659-96c0-64f56fa16df8"
   },
   "outputs": [
    {
     "name": "stdout",
     "output_type": "stream",
     "text": [
      "+---+---------+--------------+\n",
      "| id|category1|category_index|\n",
      "+---+---------+--------------+\n",
      "|  0|     Good|           1.0|\n",
      "|  1|      Bad|           2.0|\n",
      "|  2|     Good|           1.0|\n",
      "|  3|  Average|           0.0|\n",
      "|  4|      Bad|           2.0|\n",
      "|  5|     Good|           1.0|\n",
      "|  6|  Average|           0.0|\n",
      "|  7|  Average|           0.0|\n",
      "|  8|  Average|           0.0|\n",
      "+---+---------+--------------+\n",
      "\n"
     ]
    }
   ],
   "source": [
    "indexed = indexer.fit(data1).transform(data1)\n",
    "indexed.show()"
   ]
  },
  {
   "cell_type": "markdown",
   "metadata": {},
   "source": [
    "## One Hot Encoder"
   ]
  },
  {
   "cell_type": "code",
   "execution_count": null,
   "metadata": {
    "colab": {},
    "colab_type": "code",
    "id": "09p40txis65n"
   },
   "outputs": [],
   "source": [
    "encoder = OneHotEncoder(inputCol=\"category_index\", outputCol=\"category_encode\")\n",
    "    "
   ]
  },
  {
   "cell_type": "code",
   "execution_count": null,
   "metadata": {
    "colab": {},
    "colab_type": "code",
    "id": "f6vQC4OTs65v"
   },
   "outputs": [],
   "source": [
    "encoded = encoder.transform(indexed)"
   ]
  },
  {
   "cell_type": "code",
   "execution_count": null,
   "metadata": {
    "colab": {},
    "colab_type": "code",
    "id": "uNsZ4QGfs652",
    "outputId": "26a002a2-812f-4a43-abd0-b97945bd6584"
   },
   "outputs": [
    {
     "name": "stdout",
     "output_type": "stream",
     "text": [
      "+---+---------+--------------+---------------+\n",
      "| id|category1|category_index|category_encode|\n",
      "+---+---------+--------------+---------------+\n",
      "|  0|     Good|           1.0|  (2,[1],[1.0])|\n",
      "|  1|      Bad|           2.0|      (2,[],[])|\n",
      "|  2|     Good|           1.0|  (2,[1],[1.0])|\n",
      "|  3|  Average|           0.0|  (2,[0],[1.0])|\n",
      "|  4|      Bad|           2.0|      (2,[],[])|\n",
      "|  5|     Good|           1.0|  (2,[1],[1.0])|\n",
      "|  6|  Average|           0.0|  (2,[0],[1.0])|\n",
      "|  7|  Average|           0.0|  (2,[0],[1.0])|\n",
      "|  8|  Average|           0.0|  (2,[0],[1.0])|\n",
      "+---+---------+--------------+---------------+\n",
      "\n"
     ]
    }
   ],
   "source": [
    "encoded.show()"
   ]
  },
  {
   "cell_type": "code",
   "execution_count": null,
   "metadata": {
    "colab": {},
    "colab_type": "code",
    "id": "mpRBWvJws656"
   },
   "outputs": [],
   "source": [
    "spark.stop()"
   ]
  },
  {
   "cell_type": "code",
   "execution_count": null,
   "metadata": {
    "colab": {},
    "colab_type": "code",
    "id": "pWHwpe2Ns65-"
   },
   "outputs": [],
   "source": []
  }
 ],
 "metadata": {
  "colab": {
   "name": "OneHotEncoder.ipynb",
   "provenance": []
  },
  "kernelspec": {
   "display_name": "Python 3",
   "language": "python",
   "name": "python3"
  },
  "language_info": {
   "codemirror_mode": {
    "name": "ipython",
    "version": 3
   },
   "file_extension": ".py",
   "mimetype": "text/x-python",
   "name": "python",
   "nbconvert_exporter": "python",
   "pygments_lexer": "ipython3",
   "version": "3.7.4"
  }
 },
 "nbformat": 4,
 "nbformat_minor": 1
}
