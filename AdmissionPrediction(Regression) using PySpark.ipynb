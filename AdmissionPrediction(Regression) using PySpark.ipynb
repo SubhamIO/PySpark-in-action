{
 "cells": [
  {
   "cell_type": "code",
   "execution_count": 52,
   "metadata": {},
   "outputs": [],
   "source": [
    "from __future__ import print_function\n",
    "import findspark\n",
    "import os\n",
    "import sys\n",
    "os.environ['SPARK_HOME'] = r'/Users/subham/Downloads/spark-3.0.0-bin-hadoop2.7'\n",
    "findspark.init()\n",
    "findspark.find()\n",
    "import pyspark\n",
    "from pyspark.sql import SparkSession\n",
    "from pyspark.ml.feature import VectorAssembler\n",
    "from pyspark.ml.regression import LinearRegression"
   ]
  },
  {
   "cell_type": "code",
   "execution_count": 53,
   "metadata": {},
   "outputs": [],
   "source": [
    "if __name__==\"__main__\":\n",
    "    spark = SparkSession\\\n",
    "    .builder\\\n",
    "    .appName(\"LinearRegWithSpark\")\\\n",
    "    .getOrCreate()"
   ]
  },
  {
   "cell_type": "code",
   "execution_count": 54,
   "metadata": {},
   "outputs": [],
   "source": [
    "dataset = spark.read.csv(\"/Users/subham/Desktop/PySpark/Admission_Predict_Ver1.1.csv\",header=True)"
   ]
  },
  {
   "cell_type": "code",
   "execution_count": 55,
   "metadata": {},
   "outputs": [],
   "source": [
    "newdata = dataset.drop('Serial No.')"
   ]
  },
  {
   "cell_type": "code",
   "execution_count": 56,
   "metadata": {},
   "outputs": [
    {
     "name": "stdout",
     "output_type": "stream",
     "text": [
      "+---------+-----------+-----------------+---+----+----+--------+----------------+\n",
      "|GRE Score|TOEFL Score|University Rating|SOP|LOR |CGPA|Research|Chance of Admit |\n",
      "+---------+-----------+-----------------+---+----+----+--------+----------------+\n",
      "|      337|        118|                4|4.5| 4.5|9.65|       1|            0.92|\n",
      "|      324|        107|                4|  4| 4.5|8.87|       1|            0.76|\n",
      "|      316|        104|                3|  3| 3.5|   8|       1|            0.72|\n",
      "|      322|        110|                3|3.5| 2.5|8.67|       1|             0.8|\n",
      "|      314|        103|                2|  2|   3|8.21|       0|            0.65|\n",
      "+---------+-----------+-----------------+---+----+----+--------+----------------+\n",
      "only showing top 5 rows\n",
      "\n"
     ]
    }
   ],
   "source": [
    "newdata.show(5)"
   ]
  },
  {
   "cell_type": "code",
   "execution_count": 57,
   "metadata": {},
   "outputs": [
    {
     "name": "stdout",
     "output_type": "stream",
     "text": [
      "root\n",
      " |-- GRE Score: string (nullable = true)\n",
      " |-- TOEFL Score: string (nullable = true)\n",
      " |-- University Rating: string (nullable = true)\n",
      " |-- SOP: string (nullable = true)\n",
      " |-- LOR : string (nullable = true)\n",
      " |-- CGPA: string (nullable = true)\n",
      " |-- Research: string (nullable = true)\n",
      " |-- Chance of Admit : string (nullable = true)\n",
      "\n"
     ]
    }
   ],
   "source": [
    "newdata.printSchema()"
   ]
  },
  {
   "cell_type": "markdown",
   "metadata": {},
   "source": [
    "__Try out some sql functions__"
   ]
  },
  {
   "cell_type": "code",
   "execution_count": 58,
   "metadata": {},
   "outputs": [],
   "source": [
    "from pyspark.sql.functions import col\n",
    "# make all the columns float or numeric\n",
    "new_data = newdata.select(*(col(c).cast(\"float\").alias(c) for c in newdata.columns))"
   ]
  },
  {
   "cell_type": "code",
   "execution_count": 59,
   "metadata": {},
   "outputs": [
    {
     "name": "stdout",
     "output_type": "stream",
     "text": [
      "+---------+-----------+-----------------+---+----+----+--------+----------------+\n",
      "|GRE Score|TOEFL Score|University Rating|SOP|LOR |CGPA|Research|Chance of Admit |\n",
      "+---------+-----------+-----------------+---+----+----+--------+----------------+\n",
      "|    337.0|      118.0|              4.0|4.5| 4.5|9.65|     1.0|            0.92|\n",
      "|    324.0|      107.0|              4.0|4.0| 4.5|8.87|     1.0|            0.76|\n",
      "|    316.0|      104.0|              3.0|3.0| 3.5| 8.0|     1.0|            0.72|\n",
      "+---------+-----------+-----------------+---+----+----+--------+----------------+\n",
      "only showing top 3 rows\n",
      "\n"
     ]
    }
   ],
   "source": [
    "new_data.show(3)"
   ]
  },
  {
   "cell_type": "code",
   "execution_count": 60,
   "metadata": {},
   "outputs": [
    {
     "name": "stdout",
     "output_type": "stream",
     "text": [
      "root\n",
      " |-- GRE Score: float (nullable = true)\n",
      " |-- TOEFL Score: float (nullable = true)\n",
      " |-- University Rating: float (nullable = true)\n",
      " |-- SOP: float (nullable = true)\n",
      " |-- LOR : float (nullable = true)\n",
      " |-- CGPA: float (nullable = true)\n",
      " |-- Research: float (nullable = true)\n",
      " |-- Chance of Admit : float (nullable = true)\n",
      "\n"
     ]
    }
   ],
   "source": [
    "new_data.printSchema()"
   ]
  },
  {
   "cell_type": "code",
   "execution_count": 74,
   "metadata": {},
   "outputs": [
    {
     "name": "stdout",
     "output_type": "stream",
     "text": [
      "+-------+------------------+-----------------+-----------------+------------------+------------------+------------------+------------------+-------------------+\n",
      "|summary|         GRE Score|      TOEFL Score|University Rating|               SOP|              LOR |              CGPA|          Research|   Chance of Admit |\n",
      "+-------+------------------+-----------------+-----------------+------------------+------------------+------------------+------------------+-------------------+\n",
      "|  count|               500|              500|              500|               500|               500|               500|               500|                500|\n",
      "|   mean|           316.472|          107.192|            3.114|             3.374|             3.484| 8.576440006256103|              0.56|  0.721739999115467|\n",
      "| stddev|11.295148372354712|6.081867659564538|1.143511800759815|0.9910036207566072|0.9254495738978191|0.6048127839150954|0.4968840786090358|0.14114040501251301|\n",
      "|    min|             290.0|             92.0|              1.0|               1.0|               1.0|               6.8|               0.0|               0.34|\n",
      "|    max|             340.0|            120.0|              5.0|               5.0|               5.0|              9.92|               1.0|               0.97|\n",
      "+-------+------------------+-----------------+-----------------+------------------+------------------+------------------+------------------+-------------------+\n",
      "\n"
     ]
    }
   ],
   "source": [
    "new_data.describe().show()"
   ]
  },
  {
   "cell_type": "code",
   "execution_count": 75,
   "metadata": {},
   "outputs": [
    {
     "name": "stdout",
     "output_type": "stream",
     "text": [
      "+-------+-------------------+\n",
      "|summary|   Chance of Admit |\n",
      "+-------+-------------------+\n",
      "|  count|                500|\n",
      "|   mean|  0.721739999115467|\n",
      "| stddev|0.14114040501251301|\n",
      "|    min|               0.34|\n",
      "|    max|               0.97|\n",
      "+-------+-------------------+\n",
      "\n"
     ]
    }
   ],
   "source": [
    "new_data.describe('Chance of Admit ').show()"
   ]
  },
  {
   "cell_type": "code",
   "execution_count": 64,
   "metadata": {},
   "outputs": [],
   "source": [
    "from pyspark.mllib.stat import Statistics\n",
    "from pyspark import SparkContext\n",
    "from pyspark import SparkConf\n",
    "import pandas as pd"
   ]
  },
  {
   "cell_type": "markdown",
   "metadata": {},
   "source": [
    "###  We need to convert dataframe intp a RDD to check for correlation"
   ]
  },
  {
   "cell_type": "code",
   "execution_count": 62,
   "metadata": {},
   "outputs": [],
   "source": [
    "col_names = new_data.columns\n",
    "features_set = new_data.rdd.map(lambda row: row[0:])"
   ]
  },
  {
   "cell_type": "markdown",
   "metadata": {},
   "source": [
    "### Checking correaltion using pearson method\n",
    "\n"
   ]
  },
  {
   "cell_type": "code",
   "execution_count": 65,
   "metadata": {},
   "outputs": [],
   "source": [
    "corr_mat=Statistics.corr(features_set, method=\"pearson\")\n",
    "corr_df = pd.DataFrame(corr_mat)\n",
    "corr_df.index, corr_df.columns = col_names, col_names"
   ]
  },
  {
   "cell_type": "code",
   "execution_count": 66,
   "metadata": {},
   "outputs": [
    {
     "data": {
      "text/plain": [
       "Index(['GRE Score', 'TOEFL Score', 'University Rating', 'SOP', 'LOR ', 'CGPA',\n",
       "       'Research', 'Chance of Admit '],\n",
       "      dtype='object')"
      ]
     },
     "execution_count": 66,
     "metadata": {},
     "output_type": "execute_result"
    }
   ],
   "source": [
    "corr_df.columns"
   ]
  },
  {
   "cell_type": "code",
   "execution_count": 67,
   "metadata": {},
   "outputs": [
    {
     "data": {
      "text/plain": [
       "Index(['GRE Score', 'TOEFL Score', 'University Rating', 'SOP', 'LOR ', 'CGPA',\n",
       "       'Research', 'Chance of Admit '],\n",
       "      dtype='object')"
      ]
     },
     "execution_count": 67,
     "metadata": {},
     "output_type": "execute_result"
    }
   ],
   "source": [
    "corr_df.index"
   ]
  },
  {
   "cell_type": "code",
   "execution_count": 68,
   "metadata": {},
   "outputs": [
    {
     "data": {
      "text/html": [
       "<div>\n",
       "<style scoped>\n",
       "    .dataframe tbody tr th:only-of-type {\n",
       "        vertical-align: middle;\n",
       "    }\n",
       "\n",
       "    .dataframe tbody tr th {\n",
       "        vertical-align: top;\n",
       "    }\n",
       "\n",
       "    .dataframe thead th {\n",
       "        text-align: right;\n",
       "    }\n",
       "</style>\n",
       "<table border=\"1\" class=\"dataframe\">\n",
       "  <thead>\n",
       "    <tr style=\"text-align: right;\">\n",
       "      <th></th>\n",
       "      <th>GRE Score</th>\n",
       "      <th>TOEFL Score</th>\n",
       "      <th>University Rating</th>\n",
       "      <th>SOP</th>\n",
       "      <th>LOR</th>\n",
       "      <th>CGPA</th>\n",
       "      <th>Research</th>\n",
       "      <th>Chance of Admit</th>\n",
       "    </tr>\n",
       "  </thead>\n",
       "  <tbody>\n",
       "    <tr>\n",
       "      <td>GRE Score</td>\n",
       "      <td>1.000000</td>\n",
       "      <td>0.827200</td>\n",
       "      <td>0.635376</td>\n",
       "      <td>0.613498</td>\n",
       "      <td>0.524679</td>\n",
       "      <td>0.825878</td>\n",
       "      <td>0.563398</td>\n",
       "      <td>0.810351</td>\n",
       "    </tr>\n",
       "    <tr>\n",
       "      <td>TOEFL Score</td>\n",
       "      <td>0.827200</td>\n",
       "      <td>1.000000</td>\n",
       "      <td>0.649799</td>\n",
       "      <td>0.644410</td>\n",
       "      <td>0.541563</td>\n",
       "      <td>0.810574</td>\n",
       "      <td>0.467012</td>\n",
       "      <td>0.792228</td>\n",
       "    </tr>\n",
       "    <tr>\n",
       "      <td>University Rating</td>\n",
       "      <td>0.635376</td>\n",
       "      <td>0.649799</td>\n",
       "      <td>1.000000</td>\n",
       "      <td>0.728024</td>\n",
       "      <td>0.608651</td>\n",
       "      <td>0.705254</td>\n",
       "      <td>0.427047</td>\n",
       "      <td>0.690132</td>\n",
       "    </tr>\n",
       "    <tr>\n",
       "      <td>SOP</td>\n",
       "      <td>0.613498</td>\n",
       "      <td>0.644410</td>\n",
       "      <td>0.728024</td>\n",
       "      <td>1.000000</td>\n",
       "      <td>0.663707</td>\n",
       "      <td>0.712154</td>\n",
       "      <td>0.408116</td>\n",
       "      <td>0.684137</td>\n",
       "    </tr>\n",
       "    <tr>\n",
       "      <td>LOR</td>\n",
       "      <td>0.524679</td>\n",
       "      <td>0.541563</td>\n",
       "      <td>0.608651</td>\n",
       "      <td>0.663707</td>\n",
       "      <td>1.000000</td>\n",
       "      <td>0.637469</td>\n",
       "      <td>0.372526</td>\n",
       "      <td>0.645365</td>\n",
       "    </tr>\n",
       "    <tr>\n",
       "      <td>CGPA</td>\n",
       "      <td>0.825878</td>\n",
       "      <td>0.810574</td>\n",
       "      <td>0.705254</td>\n",
       "      <td>0.712154</td>\n",
       "      <td>0.637469</td>\n",
       "      <td>1.000000</td>\n",
       "      <td>0.501311</td>\n",
       "      <td>0.882413</td>\n",
       "    </tr>\n",
       "    <tr>\n",
       "      <td>Research</td>\n",
       "      <td>0.563398</td>\n",
       "      <td>0.467012</td>\n",
       "      <td>0.427047</td>\n",
       "      <td>0.408116</td>\n",
       "      <td>0.372526</td>\n",
       "      <td>0.501311</td>\n",
       "      <td>1.000000</td>\n",
       "      <td>0.545871</td>\n",
       "    </tr>\n",
       "    <tr>\n",
       "      <td>Chance of Admit</td>\n",
       "      <td>0.810351</td>\n",
       "      <td>0.792228</td>\n",
       "      <td>0.690132</td>\n",
       "      <td>0.684137</td>\n",
       "      <td>0.645365</td>\n",
       "      <td>0.882413</td>\n",
       "      <td>0.545871</td>\n",
       "      <td>1.000000</td>\n",
       "    </tr>\n",
       "  </tbody>\n",
       "</table>\n",
       "</div>"
      ],
      "text/plain": [
       "                   GRE Score  TOEFL Score  University Rating       SOP  \\\n",
       "GRE Score           1.000000     0.827200           0.635376  0.613498   \n",
       "TOEFL Score         0.827200     1.000000           0.649799  0.644410   \n",
       "University Rating   0.635376     0.649799           1.000000  0.728024   \n",
       "SOP                 0.613498     0.644410           0.728024  1.000000   \n",
       "LOR                 0.524679     0.541563           0.608651  0.663707   \n",
       "CGPA                0.825878     0.810574           0.705254  0.712154   \n",
       "Research            0.563398     0.467012           0.427047  0.408116   \n",
       "Chance of Admit     0.810351     0.792228           0.690132  0.684137   \n",
       "\n",
       "                       LOR       CGPA  Research  Chance of Admit   \n",
       "GRE Score          0.524679  0.825878  0.563398          0.810351  \n",
       "TOEFL Score        0.541563  0.810574  0.467012          0.792228  \n",
       "University Rating  0.608651  0.705254  0.427047          0.690132  \n",
       "SOP                0.663707  0.712154  0.408116          0.684137  \n",
       "LOR                1.000000  0.637469  0.372526          0.645365  \n",
       "CGPA               0.637469  1.000000  0.501311          0.882413  \n",
       "Research           0.372526  0.501311  1.000000          0.545871  \n",
       "Chance of Admit    0.645365  0.882413  0.545871          1.000000  "
      ]
     },
     "execution_count": 68,
     "metadata": {},
     "output_type": "execute_result"
    }
   ],
   "source": [
    "corr_df"
   ]
  },
  {
   "cell_type": "markdown",
   "metadata": {},
   "source": [
    "## Dataframe to Heatmap"
   ]
  },
  {
   "cell_type": "code",
   "execution_count": 72,
   "metadata": {},
   "outputs": [
    {
     "data": {
      "text/html": [
       "<style  type=\"text/css\" >\n",
       "    #T_60ab2626_cf0a_11ea_a65a_98460a9bb7d6row0_col0 {\n",
       "            background-color:  #08306b;\n",
       "            color:  #f1f1f1;\n",
       "        }    #T_60ab2626_cf0a_11ea_a65a_98460a9bb7d6row0_col1 {\n",
       "            background-color:  #3484bf;\n",
       "            color:  #000000;\n",
       "        }    #T_60ab2626_cf0a_11ea_a65a_98460a9bb7d6row0_col2 {\n",
       "            background-color:  #a1cbe2;\n",
       "            color:  #000000;\n",
       "        }    #T_60ab2626_cf0a_11ea_a65a_98460a9bb7d6row0_col3 {\n",
       "            background-color:  #a8cee4;\n",
       "            color:  #000000;\n",
       "        }    #T_60ab2626_cf0a_11ea_a65a_98460a9bb7d6row0_col4 {\n",
       "            background-color:  #c7dcef;\n",
       "            color:  #000000;\n",
       "        }    #T_60ab2626_cf0a_11ea_a65a_98460a9bb7d6row0_col5 {\n",
       "            background-color:  #3b8bc2;\n",
       "            color:  #000000;\n",
       "        }    #T_60ab2626_cf0a_11ea_a65a_98460a9bb7d6row0_col6 {\n",
       "            background-color:  #b5d4e9;\n",
       "            color:  #000000;\n",
       "        }    #T_60ab2626_cf0a_11ea_a65a_98460a9bb7d6row0_col7 {\n",
       "            background-color:  #4f9bcb;\n",
       "            color:  #000000;\n",
       "        }    #T_60ab2626_cf0a_11ea_a65a_98460a9bb7d6row1_col0 {\n",
       "            background-color:  #3f8fc5;\n",
       "            color:  #000000;\n",
       "        }    #T_60ab2626_cf0a_11ea_a65a_98460a9bb7d6row1_col1 {\n",
       "            background-color:  #08306b;\n",
       "            color:  #f1f1f1;\n",
       "        }    #T_60ab2626_cf0a_11ea_a65a_98460a9bb7d6row1_col2 {\n",
       "            background-color:  #99c7e0;\n",
       "            color:  #000000;\n",
       "        }    #T_60ab2626_cf0a_11ea_a65a_98460a9bb7d6row1_col3 {\n",
       "            background-color:  #94c4df;\n",
       "            color:  #000000;\n",
       "        }    #T_60ab2626_cf0a_11ea_a65a_98460a9bb7d6row1_col4 {\n",
       "            background-color:  #c1d9ed;\n",
       "            color:  #000000;\n",
       "        }    #T_60ab2626_cf0a_11ea_a65a_98460a9bb7d6row1_col5 {\n",
       "            background-color:  #4493c7;\n",
       "            color:  #000000;\n",
       "        }    #T_60ab2626_cf0a_11ea_a65a_98460a9bb7d6row1_col6 {\n",
       "            background-color:  #d9e8f5;\n",
       "            color:  #000000;\n",
       "        }    #T_60ab2626_cf0a_11ea_a65a_98460a9bb7d6row1_col7 {\n",
       "            background-color:  #5da5d1;\n",
       "            color:  #000000;\n",
       "        }    #T_60ab2626_cf0a_11ea_a65a_98460a9bb7d6row2_col0 {\n",
       "            background-color:  #caddf0;\n",
       "            color:  #000000;\n",
       "        }    #T_60ab2626_cf0a_11ea_a65a_98460a9bb7d6row2_col1 {\n",
       "            background-color:  #a9cfe5;\n",
       "            color:  #000000;\n",
       "        }    #T_60ab2626_cf0a_11ea_a65a_98460a9bb7d6row2_col2 {\n",
       "            background-color:  #08306b;\n",
       "            color:  #f1f1f1;\n",
       "        }    #T_60ab2626_cf0a_11ea_a65a_98460a9bb7d6row2_col3 {\n",
       "            background-color:  #5da5d1;\n",
       "            color:  #000000;\n",
       "        }    #T_60ab2626_cf0a_11ea_a65a_98460a9bb7d6row2_col4 {\n",
       "            background-color:  #9dcae1;\n",
       "            color:  #000000;\n",
       "        }    #T_60ab2626_cf0a_11ea_a65a_98460a9bb7d6row2_col5 {\n",
       "            background-color:  #91c3de;\n",
       "            color:  #000000;\n",
       "        }    #T_60ab2626_cf0a_11ea_a65a_98460a9bb7d6row2_col6 {\n",
       "            background-color:  #e6f0f9;\n",
       "            color:  #000000;\n",
       "        }    #T_60ab2626_cf0a_11ea_a65a_98460a9bb7d6row2_col7 {\n",
       "            background-color:  #b0d2e7;\n",
       "            color:  #000000;\n",
       "        }    #T_60ab2626_cf0a_11ea_a65a_98460a9bb7d6row3_col0 {\n",
       "            background-color:  #d3e3f3;\n",
       "            color:  #000000;\n",
       "        }    #T_60ab2626_cf0a_11ea_a65a_98460a9bb7d6row3_col1 {\n",
       "            background-color:  #abd0e6;\n",
       "            color:  #000000;\n",
       "        }    #T_60ab2626_cf0a_11ea_a65a_98460a9bb7d6row3_col2 {\n",
       "            background-color:  #63a8d3;\n",
       "            color:  #000000;\n",
       "        }    #T_60ab2626_cf0a_11ea_a65a_98460a9bb7d6row3_col3 {\n",
       "            background-color:  #08306b;\n",
       "            color:  #f1f1f1;\n",
       "        }    #T_60ab2626_cf0a_11ea_a65a_98460a9bb7d6row3_col4 {\n",
       "            background-color:  #7ab6d9;\n",
       "            color:  #000000;\n",
       "        }    #T_60ab2626_cf0a_11ea_a65a_98460a9bb7d6row3_col5 {\n",
       "            background-color:  #8abfdd;\n",
       "            color:  #000000;\n",
       "        }    #T_60ab2626_cf0a_11ea_a65a_98460a9bb7d6row3_col6 {\n",
       "            background-color:  #ecf4fb;\n",
       "            color:  #000000;\n",
       "        }    #T_60ab2626_cf0a_11ea_a65a_98460a9bb7d6row3_col7 {\n",
       "            background-color:  #b5d4e9;\n",
       "            color:  #000000;\n",
       "        }    #T_60ab2626_cf0a_11ea_a65a_98460a9bb7d6row4_col0 {\n",
       "            background-color:  #f7fbff;\n",
       "            color:  #000000;\n",
       "        }    #T_60ab2626_cf0a_11ea_a65a_98460a9bb7d6row4_col1 {\n",
       "            background-color:  #dce9f6;\n",
       "            color:  #000000;\n",
       "        }    #T_60ab2626_cf0a_11ea_a65a_98460a9bb7d6row4_col2 {\n",
       "            background-color:  #b0d2e7;\n",
       "            color:  #000000;\n",
       "        }    #T_60ab2626_cf0a_11ea_a65a_98460a9bb7d6row4_col3 {\n",
       "            background-color:  #87bddc;\n",
       "            color:  #000000;\n",
       "        }    #T_60ab2626_cf0a_11ea_a65a_98460a9bb7d6row4_col4 {\n",
       "            background-color:  #08306b;\n",
       "            color:  #f1f1f1;\n",
       "        }    #T_60ab2626_cf0a_11ea_a65a_98460a9bb7d6row4_col5 {\n",
       "            background-color:  #bfd8ed;\n",
       "            color:  #000000;\n",
       "        }    #T_60ab2626_cf0a_11ea_a65a_98460a9bb7d6row4_col6 {\n",
       "            background-color:  #f7fbff;\n",
       "            color:  #000000;\n",
       "        }    #T_60ab2626_cf0a_11ea_a65a_98460a9bb7d6row4_col7 {\n",
       "            background-color:  #ccdff1;\n",
       "            color:  #000000;\n",
       "        }    #T_60ab2626_cf0a_11ea_a65a_98460a9bb7d6row5_col0 {\n",
       "            background-color:  #3f8fc5;\n",
       "            color:  #000000;\n",
       "        }    #T_60ab2626_cf0a_11ea_a65a_98460a9bb7d6row5_col1 {\n",
       "            background-color:  #3c8cc3;\n",
       "            color:  #000000;\n",
       "        }    #T_60ab2626_cf0a_11ea_a65a_98460a9bb7d6row5_col2 {\n",
       "            background-color:  #71b1d7;\n",
       "            color:  #000000;\n",
       "        }    #T_60ab2626_cf0a_11ea_a65a_98460a9bb7d6row5_col3 {\n",
       "            background-color:  #66abd4;\n",
       "            color:  #000000;\n",
       "        }    #T_60ab2626_cf0a_11ea_a65a_98460a9bb7d6row5_col4 {\n",
       "            background-color:  #8abfdd;\n",
       "            color:  #000000;\n",
       "        }    #T_60ab2626_cf0a_11ea_a65a_98460a9bb7d6row5_col5 {\n",
       "            background-color:  #08306b;\n",
       "            color:  #f1f1f1;\n",
       "        }    #T_60ab2626_cf0a_11ea_a65a_98460a9bb7d6row5_col6 {\n",
       "            background-color:  #cfe1f2;\n",
       "            color:  #000000;\n",
       "        }    #T_60ab2626_cf0a_11ea_a65a_98460a9bb7d6row5_col7 {\n",
       "            background-color:  #2373b6;\n",
       "            color:  #f1f1f1;\n",
       "        }    #T_60ab2626_cf0a_11ea_a65a_98460a9bb7d6row6_col0 {\n",
       "            background-color:  #e7f1fa;\n",
       "            color:  #000000;\n",
       "        }    #T_60ab2626_cf0a_11ea_a65a_98460a9bb7d6row6_col1 {\n",
       "            background-color:  #f7fbff;\n",
       "            color:  #000000;\n",
       "        }    #T_60ab2626_cf0a_11ea_a65a_98460a9bb7d6row6_col2 {\n",
       "            background-color:  #f7fbff;\n",
       "            color:  #000000;\n",
       "        }    #T_60ab2626_cf0a_11ea_a65a_98460a9bb7d6row6_col3 {\n",
       "            background-color:  #f7fbff;\n",
       "            color:  #000000;\n",
       "        }    #T_60ab2626_cf0a_11ea_a65a_98460a9bb7d6row6_col4 {\n",
       "            background-color:  #f7fbff;\n",
       "            color:  #000000;\n",
       "        }    #T_60ab2626_cf0a_11ea_a65a_98460a9bb7d6row6_col5 {\n",
       "            background-color:  #f7fbff;\n",
       "            color:  #000000;\n",
       "        }    #T_60ab2626_cf0a_11ea_a65a_98460a9bb7d6row6_col6 {\n",
       "            background-color:  #08306b;\n",
       "            color:  #f1f1f1;\n",
       "        }    #T_60ab2626_cf0a_11ea_a65a_98460a9bb7d6row6_col7 {\n",
       "            background-color:  #f7fbff;\n",
       "            color:  #000000;\n",
       "        }    #T_60ab2626_cf0a_11ea_a65a_98460a9bb7d6row7_col0 {\n",
       "            background-color:  #4a98c9;\n",
       "            color:  #000000;\n",
       "        }    #T_60ab2626_cf0a_11ea_a65a_98460a9bb7d6row7_col1 {\n",
       "            background-color:  #4695c8;\n",
       "            color:  #000000;\n",
       "        }    #T_60ab2626_cf0a_11ea_a65a_98460a9bb7d6row7_col2 {\n",
       "            background-color:  #7cb7da;\n",
       "            color:  #000000;\n",
       "        }    #T_60ab2626_cf0a_11ea_a65a_98460a9bb7d6row7_col3 {\n",
       "            background-color:  #79b5d9;\n",
       "            color:  #000000;\n",
       "        }    #T_60ab2626_cf0a_11ea_a65a_98460a9bb7d6row7_col4 {\n",
       "            background-color:  #85bcdc;\n",
       "            color:  #000000;\n",
       "        }    #T_60ab2626_cf0a_11ea_a65a_98460a9bb7d6row7_col5 {\n",
       "            background-color:  #1e6db2;\n",
       "            color:  #f1f1f1;\n",
       "        }    #T_60ab2626_cf0a_11ea_a65a_98460a9bb7d6row7_col6 {\n",
       "            background-color:  #bed8ec;\n",
       "            color:  #000000;\n",
       "        }    #T_60ab2626_cf0a_11ea_a65a_98460a9bb7d6row7_col7 {\n",
       "            background-color:  #08306b;\n",
       "            color:  #f1f1f1;\n",
       "        }</style><table id=\"T_60ab2626_cf0a_11ea_a65a_98460a9bb7d6\" ><thead>    <tr>        <th class=\"blank level0\" ></th>        <th class=\"col_heading level0 col0\" >GRE Score</th>        <th class=\"col_heading level0 col1\" >TOEFL Score</th>        <th class=\"col_heading level0 col2\" >University Rating</th>        <th class=\"col_heading level0 col3\" >SOP</th>        <th class=\"col_heading level0 col4\" >LOR </th>        <th class=\"col_heading level0 col5\" >CGPA</th>        <th class=\"col_heading level0 col6\" >Research</th>        <th class=\"col_heading level0 col7\" >Chance of Admit </th>    </tr></thead><tbody>\n",
       "                <tr>\n",
       "                        <th id=\"T_60ab2626_cf0a_11ea_a65a_98460a9bb7d6level0_row0\" class=\"row_heading level0 row0\" >GRE Score</th>\n",
       "                        <td id=\"T_60ab2626_cf0a_11ea_a65a_98460a9bb7d6row0_col0\" class=\"data row0 col0\" >1</td>\n",
       "                        <td id=\"T_60ab2626_cf0a_11ea_a65a_98460a9bb7d6row0_col1\" class=\"data row0 col1\" >0.8272</td>\n",
       "                        <td id=\"T_60ab2626_cf0a_11ea_a65a_98460a9bb7d6row0_col2\" class=\"data row0 col2\" >0.635376</td>\n",
       "                        <td id=\"T_60ab2626_cf0a_11ea_a65a_98460a9bb7d6row0_col3\" class=\"data row0 col3\" >0.613498</td>\n",
       "                        <td id=\"T_60ab2626_cf0a_11ea_a65a_98460a9bb7d6row0_col4\" class=\"data row0 col4\" >0.524679</td>\n",
       "                        <td id=\"T_60ab2626_cf0a_11ea_a65a_98460a9bb7d6row0_col5\" class=\"data row0 col5\" >0.825878</td>\n",
       "                        <td id=\"T_60ab2626_cf0a_11ea_a65a_98460a9bb7d6row0_col6\" class=\"data row0 col6\" >0.563398</td>\n",
       "                        <td id=\"T_60ab2626_cf0a_11ea_a65a_98460a9bb7d6row0_col7\" class=\"data row0 col7\" >0.810351</td>\n",
       "            </tr>\n",
       "            <tr>\n",
       "                        <th id=\"T_60ab2626_cf0a_11ea_a65a_98460a9bb7d6level0_row1\" class=\"row_heading level0 row1\" >TOEFL Score</th>\n",
       "                        <td id=\"T_60ab2626_cf0a_11ea_a65a_98460a9bb7d6row1_col0\" class=\"data row1 col0\" >0.8272</td>\n",
       "                        <td id=\"T_60ab2626_cf0a_11ea_a65a_98460a9bb7d6row1_col1\" class=\"data row1 col1\" >1</td>\n",
       "                        <td id=\"T_60ab2626_cf0a_11ea_a65a_98460a9bb7d6row1_col2\" class=\"data row1 col2\" >0.649799</td>\n",
       "                        <td id=\"T_60ab2626_cf0a_11ea_a65a_98460a9bb7d6row1_col3\" class=\"data row1 col3\" >0.64441</td>\n",
       "                        <td id=\"T_60ab2626_cf0a_11ea_a65a_98460a9bb7d6row1_col4\" class=\"data row1 col4\" >0.541563</td>\n",
       "                        <td id=\"T_60ab2626_cf0a_11ea_a65a_98460a9bb7d6row1_col5\" class=\"data row1 col5\" >0.810574</td>\n",
       "                        <td id=\"T_60ab2626_cf0a_11ea_a65a_98460a9bb7d6row1_col6\" class=\"data row1 col6\" >0.467012</td>\n",
       "                        <td id=\"T_60ab2626_cf0a_11ea_a65a_98460a9bb7d6row1_col7\" class=\"data row1 col7\" >0.792228</td>\n",
       "            </tr>\n",
       "            <tr>\n",
       "                        <th id=\"T_60ab2626_cf0a_11ea_a65a_98460a9bb7d6level0_row2\" class=\"row_heading level0 row2\" >University Rating</th>\n",
       "                        <td id=\"T_60ab2626_cf0a_11ea_a65a_98460a9bb7d6row2_col0\" class=\"data row2 col0\" >0.635376</td>\n",
       "                        <td id=\"T_60ab2626_cf0a_11ea_a65a_98460a9bb7d6row2_col1\" class=\"data row2 col1\" >0.649799</td>\n",
       "                        <td id=\"T_60ab2626_cf0a_11ea_a65a_98460a9bb7d6row2_col2\" class=\"data row2 col2\" >1</td>\n",
       "                        <td id=\"T_60ab2626_cf0a_11ea_a65a_98460a9bb7d6row2_col3\" class=\"data row2 col3\" >0.728024</td>\n",
       "                        <td id=\"T_60ab2626_cf0a_11ea_a65a_98460a9bb7d6row2_col4\" class=\"data row2 col4\" >0.608651</td>\n",
       "                        <td id=\"T_60ab2626_cf0a_11ea_a65a_98460a9bb7d6row2_col5\" class=\"data row2 col5\" >0.705254</td>\n",
       "                        <td id=\"T_60ab2626_cf0a_11ea_a65a_98460a9bb7d6row2_col6\" class=\"data row2 col6\" >0.427047</td>\n",
       "                        <td id=\"T_60ab2626_cf0a_11ea_a65a_98460a9bb7d6row2_col7\" class=\"data row2 col7\" >0.690132</td>\n",
       "            </tr>\n",
       "            <tr>\n",
       "                        <th id=\"T_60ab2626_cf0a_11ea_a65a_98460a9bb7d6level0_row3\" class=\"row_heading level0 row3\" >SOP</th>\n",
       "                        <td id=\"T_60ab2626_cf0a_11ea_a65a_98460a9bb7d6row3_col0\" class=\"data row3 col0\" >0.613498</td>\n",
       "                        <td id=\"T_60ab2626_cf0a_11ea_a65a_98460a9bb7d6row3_col1\" class=\"data row3 col1\" >0.64441</td>\n",
       "                        <td id=\"T_60ab2626_cf0a_11ea_a65a_98460a9bb7d6row3_col2\" class=\"data row3 col2\" >0.728024</td>\n",
       "                        <td id=\"T_60ab2626_cf0a_11ea_a65a_98460a9bb7d6row3_col3\" class=\"data row3 col3\" >1</td>\n",
       "                        <td id=\"T_60ab2626_cf0a_11ea_a65a_98460a9bb7d6row3_col4\" class=\"data row3 col4\" >0.663707</td>\n",
       "                        <td id=\"T_60ab2626_cf0a_11ea_a65a_98460a9bb7d6row3_col5\" class=\"data row3 col5\" >0.712154</td>\n",
       "                        <td id=\"T_60ab2626_cf0a_11ea_a65a_98460a9bb7d6row3_col6\" class=\"data row3 col6\" >0.408116</td>\n",
       "                        <td id=\"T_60ab2626_cf0a_11ea_a65a_98460a9bb7d6row3_col7\" class=\"data row3 col7\" >0.684137</td>\n",
       "            </tr>\n",
       "            <tr>\n",
       "                        <th id=\"T_60ab2626_cf0a_11ea_a65a_98460a9bb7d6level0_row4\" class=\"row_heading level0 row4\" >LOR </th>\n",
       "                        <td id=\"T_60ab2626_cf0a_11ea_a65a_98460a9bb7d6row4_col0\" class=\"data row4 col0\" >0.524679</td>\n",
       "                        <td id=\"T_60ab2626_cf0a_11ea_a65a_98460a9bb7d6row4_col1\" class=\"data row4 col1\" >0.541563</td>\n",
       "                        <td id=\"T_60ab2626_cf0a_11ea_a65a_98460a9bb7d6row4_col2\" class=\"data row4 col2\" >0.608651</td>\n",
       "                        <td id=\"T_60ab2626_cf0a_11ea_a65a_98460a9bb7d6row4_col3\" class=\"data row4 col3\" >0.663707</td>\n",
       "                        <td id=\"T_60ab2626_cf0a_11ea_a65a_98460a9bb7d6row4_col4\" class=\"data row4 col4\" >1</td>\n",
       "                        <td id=\"T_60ab2626_cf0a_11ea_a65a_98460a9bb7d6row4_col5\" class=\"data row4 col5\" >0.637469</td>\n",
       "                        <td id=\"T_60ab2626_cf0a_11ea_a65a_98460a9bb7d6row4_col6\" class=\"data row4 col6\" >0.372526</td>\n",
       "                        <td id=\"T_60ab2626_cf0a_11ea_a65a_98460a9bb7d6row4_col7\" class=\"data row4 col7\" >0.645365</td>\n",
       "            </tr>\n",
       "            <tr>\n",
       "                        <th id=\"T_60ab2626_cf0a_11ea_a65a_98460a9bb7d6level0_row5\" class=\"row_heading level0 row5\" >CGPA</th>\n",
       "                        <td id=\"T_60ab2626_cf0a_11ea_a65a_98460a9bb7d6row5_col0\" class=\"data row5 col0\" >0.825878</td>\n",
       "                        <td id=\"T_60ab2626_cf0a_11ea_a65a_98460a9bb7d6row5_col1\" class=\"data row5 col1\" >0.810574</td>\n",
       "                        <td id=\"T_60ab2626_cf0a_11ea_a65a_98460a9bb7d6row5_col2\" class=\"data row5 col2\" >0.705254</td>\n",
       "                        <td id=\"T_60ab2626_cf0a_11ea_a65a_98460a9bb7d6row5_col3\" class=\"data row5 col3\" >0.712154</td>\n",
       "                        <td id=\"T_60ab2626_cf0a_11ea_a65a_98460a9bb7d6row5_col4\" class=\"data row5 col4\" >0.637469</td>\n",
       "                        <td id=\"T_60ab2626_cf0a_11ea_a65a_98460a9bb7d6row5_col5\" class=\"data row5 col5\" >1</td>\n",
       "                        <td id=\"T_60ab2626_cf0a_11ea_a65a_98460a9bb7d6row5_col6\" class=\"data row5 col6\" >0.501311</td>\n",
       "                        <td id=\"T_60ab2626_cf0a_11ea_a65a_98460a9bb7d6row5_col7\" class=\"data row5 col7\" >0.882413</td>\n",
       "            </tr>\n",
       "            <tr>\n",
       "                        <th id=\"T_60ab2626_cf0a_11ea_a65a_98460a9bb7d6level0_row6\" class=\"row_heading level0 row6\" >Research</th>\n",
       "                        <td id=\"T_60ab2626_cf0a_11ea_a65a_98460a9bb7d6row6_col0\" class=\"data row6 col0\" >0.563398</td>\n",
       "                        <td id=\"T_60ab2626_cf0a_11ea_a65a_98460a9bb7d6row6_col1\" class=\"data row6 col1\" >0.467012</td>\n",
       "                        <td id=\"T_60ab2626_cf0a_11ea_a65a_98460a9bb7d6row6_col2\" class=\"data row6 col2\" >0.427047</td>\n",
       "                        <td id=\"T_60ab2626_cf0a_11ea_a65a_98460a9bb7d6row6_col3\" class=\"data row6 col3\" >0.408116</td>\n",
       "                        <td id=\"T_60ab2626_cf0a_11ea_a65a_98460a9bb7d6row6_col4\" class=\"data row6 col4\" >0.372526</td>\n",
       "                        <td id=\"T_60ab2626_cf0a_11ea_a65a_98460a9bb7d6row6_col5\" class=\"data row6 col5\" >0.501311</td>\n",
       "                        <td id=\"T_60ab2626_cf0a_11ea_a65a_98460a9bb7d6row6_col6\" class=\"data row6 col6\" >1</td>\n",
       "                        <td id=\"T_60ab2626_cf0a_11ea_a65a_98460a9bb7d6row6_col7\" class=\"data row6 col7\" >0.545871</td>\n",
       "            </tr>\n",
       "            <tr>\n",
       "                        <th id=\"T_60ab2626_cf0a_11ea_a65a_98460a9bb7d6level0_row7\" class=\"row_heading level0 row7\" >Chance of Admit </th>\n",
       "                        <td id=\"T_60ab2626_cf0a_11ea_a65a_98460a9bb7d6row7_col0\" class=\"data row7 col0\" >0.810351</td>\n",
       "                        <td id=\"T_60ab2626_cf0a_11ea_a65a_98460a9bb7d6row7_col1\" class=\"data row7 col1\" >0.792228</td>\n",
       "                        <td id=\"T_60ab2626_cf0a_11ea_a65a_98460a9bb7d6row7_col2\" class=\"data row7 col2\" >0.690132</td>\n",
       "                        <td id=\"T_60ab2626_cf0a_11ea_a65a_98460a9bb7d6row7_col3\" class=\"data row7 col3\" >0.684137</td>\n",
       "                        <td id=\"T_60ab2626_cf0a_11ea_a65a_98460a9bb7d6row7_col4\" class=\"data row7 col4\" >0.645365</td>\n",
       "                        <td id=\"T_60ab2626_cf0a_11ea_a65a_98460a9bb7d6row7_col5\" class=\"data row7 col5\" >0.882413</td>\n",
       "                        <td id=\"T_60ab2626_cf0a_11ea_a65a_98460a9bb7d6row7_col6\" class=\"data row7 col6\" >0.545871</td>\n",
       "                        <td id=\"T_60ab2626_cf0a_11ea_a65a_98460a9bb7d6row7_col7\" class=\"data row7 col7\" >1</td>\n",
       "            </tr>\n",
       "    </tbody></table>"
      ],
      "text/plain": [
       "<pandas.io.formats.style.Styler at 0x1a27d1d3d0>"
      ]
     },
     "execution_count": 72,
     "metadata": {},
     "output_type": "execute_result"
    }
   ],
   "source": [
    "corr_df.style.background_gradient(cmap='Blues')"
   ]
  },
  {
   "cell_type": "markdown",
   "metadata": {},
   "source": [
    "## Checking for Null values"
   ]
  },
  {
   "cell_type": "code",
   "execution_count": 79,
   "metadata": {},
   "outputs": [],
   "source": [
    "from pyspark.sql.functions import col,count,isnan,when"
   ]
  },
  {
   "cell_type": "code",
   "execution_count": 80,
   "metadata": {},
   "outputs": [
    {
     "name": "stdout",
     "output_type": "stream",
     "text": [
      "+---------+-----------+-----------------+---+----+----+--------+----------------+\n",
      "|GRE Score|TOEFL Score|University Rating|SOP|LOR |CGPA|Research|Chance of Admit |\n",
      "+---------+-----------+-----------------+---+----+----+--------+----------------+\n",
      "|        0|          0|                0|  0|   0|   0|       0|               0|\n",
      "+---------+-----------+-----------------+---+----+----+--------+----------------+\n",
      "\n"
     ]
    }
   ],
   "source": [
    "# Let's check for missing values\n",
    "newdata.select([count(when(col(c).isNull(),c)).alias(c) for c in new_data.columns]).show()"
   ]
  },
  {
   "cell_type": "code",
   "execution_count": 81,
   "metadata": {},
   "outputs": [],
   "source": [
    "from pyspark.ml.feature import Imputer\n"
   ]
  },
  {
   "cell_type": "code",
   "execution_count": 82,
   "metadata": {},
   "outputs": [
    {
     "data": {
      "text/plain": [
       "\"Imputer(\\n    strategy='mean',\\n    missingValue=nan,\\n    inputCols=None,\\n    outputCols=None,\\n    inputCol=None,\\n    outputCol=None,\\n    relativeError=0.001,\\n)\""
      ]
     },
     "execution_count": 82,
     "metadata": {},
     "output_type": "execute_result"
    }
   ],
   "source": [
    "'''Imputer(\n",
    "    strategy='mean',\n",
    "    missingValue=nan,\n",
    "    inputCols=None,\n",
    "    outputCols=None,\n",
    "    inputCol=None,\n",
    "    outputCol=None,\n",
    "    relativeError=0.001,\n",
    ")'''\n",
    "# imputer = Imputer(inputCols = [\"GRE Score\",\"TOEFL Score\",\"University Rating\"],  # select only those cols which have nans\n",
    "#                  outputCols = [\"GRE Score\",\"TOEFL Score\",\"University Rating\"])\n",
    "# model = imputer.fit(new_data)\n",
    "# imputed_data = model.transform(new_data)\n",
    "# imputed_data.select([count(when(col(c).isNull(),c)).alias(c) for c in imputed_data.columns]).show()"
   ]
  },
  {
   "cell_type": "code",
   "execution_count": 83,
   "metadata": {},
   "outputs": [],
   "source": [
    "features = new_data.drop('Chance of Admit')"
   ]
  },
  {
   "cell_type": "code",
   "execution_count": 84,
   "metadata": {},
   "outputs": [],
   "source": [
    "# Let's assemble our features together using VectorAssembler \n",
    "# It makes lists row wise and creates feature vector\n",
    "assembler = VectorAssembler(\n",
    "                inputCols= features.columns,\n",
    "                outputCol = 'features')"
   ]
  },
  {
   "cell_type": "code",
   "execution_count": 85,
   "metadata": {},
   "outputs": [],
   "source": [
    "output = assembler.transform(new_data)"
   ]
  },
  {
   "cell_type": "code",
   "execution_count": 86,
   "metadata": {},
   "outputs": [
    {
     "name": "stdout",
     "output_type": "stream",
     "text": [
      "+---------+-----------+-----------------+---+----+----+--------+----------------+--------------------+\n",
      "|GRE Score|TOEFL Score|University Rating|SOP|LOR |CGPA|Research|Chance of Admit |            features|\n",
      "+---------+-----------+-----------------+---+----+----+--------+----------------+--------------------+\n",
      "|    337.0|      118.0|              4.0|4.5| 4.5|9.65|     1.0|            0.92|[337.0,118.0,4.0,...|\n",
      "|    324.0|      107.0|              4.0|4.0| 4.5|8.87|     1.0|            0.76|[324.0,107.0,4.0,...|\n",
      "|    316.0|      104.0|              3.0|3.0| 3.5| 8.0|     1.0|            0.72|[316.0,104.0,3.0,...|\n",
      "|    322.0|      110.0|              3.0|3.5| 2.5|8.67|     1.0|             0.8|[322.0,110.0,3.0,...|\n",
      "|    314.0|      103.0|              2.0|2.0| 3.0|8.21|     0.0|            0.65|[314.0,103.0,2.0,...|\n",
      "+---------+-----------+-----------------+---+----+----+--------+----------------+--------------------+\n",
      "only showing top 5 rows\n",
      "\n"
     ]
    }
   ],
   "source": [
    "output.show(5)"
   ]
  },
  {
   "cell_type": "code",
   "execution_count": 87,
   "metadata": {},
   "outputs": [],
   "source": [
    "# Select features and target\n",
    "output = output.select(\"features\", \"Chance of Admit \")"
   ]
  },
  {
   "cell_type": "code",
   "execution_count": 88,
   "metadata": {},
   "outputs": [],
   "source": [
    "# Train - Test split\n",
    "train_df , test_df = output.randomSplit([0.7,0.3])"
   ]
  },
  {
   "cell_type": "code",
   "execution_count": 89,
   "metadata": {},
   "outputs": [
    {
     "name": "stdout",
     "output_type": "stream",
     "text": [
      "+--------------------+----------------+\n",
      "|            features|Chance of Admit |\n",
      "+--------------------+----------------+\n",
      "|[290.0,104.0,4.0,...|            0.45|\n",
      "|[293.0,97.0,2.0,2...|            0.64|\n",
      "|[294.0,93.0,1.0,1...|            0.46|\n",
      "|[295.0,99.0,1.0,2...|            0.37|\n",
      "|[295.0,99.0,2.0,2...|            0.57|\n",
      "+--------------------+----------------+\n",
      "only showing top 5 rows\n",
      "\n"
     ]
    }
   ],
   "source": [
    "train_df.show(5)"
   ]
  },
  {
   "cell_type": "code",
   "execution_count": 90,
   "metadata": {},
   "outputs": [
    {
     "name": "stdout",
     "output_type": "stream",
     "text": [
      "+--------------------+----------------+\n",
      "|            features|Chance of Admit |\n",
      "+--------------------+----------------+\n",
      "|[290.0,100.0,1.0,...|            0.47|\n",
      "|[294.0,95.0,1.0,1...|            0.49|\n",
      "|[295.0,93.0,1.0,2...|            0.46|\n",
      "|[295.0,96.0,2.0,1...|            0.47|\n",
      "|[295.0,101.0,2.0,...|            0.69|\n",
      "+--------------------+----------------+\n",
      "only showing top 5 rows\n",
      "\n"
     ]
    }
   ],
   "source": [
    "test_df.show(5)"
   ]
  },
  {
   "cell_type": "markdown",
   "metadata": {},
   "source": [
    "## MinMaxScaler"
   ]
  },
  {
   "cell_type": "code",
   "execution_count": 91,
   "metadata": {},
   "outputs": [],
   "source": [
    "from pyspark.ml.feature import MinMaxScaler\n",
    "from pyspark.ml.feature import StandardScaler\n",
    "from pyspark.ml.linalg import Vectors\n",
    "scaler = MinMaxScaler(inputCol=\"features\", outputCol=\"scaledFeatures\")\n",
    "scalerModel = scaler.fit(train_df)\n",
    "train_df_sc = scalerModel.transform(train_df)\n",
    "test_df_sc = scalerModel.transform(test_df)"
   ]
  },
  {
   "cell_type": "markdown",
   "metadata": {},
   "source": [
    "## Linear Regression"
   ]
  },
  {
   "cell_type": "code",
   "execution_count": 36,
   "metadata": {},
   "outputs": [],
   "source": [
    "lin_reg = LinearRegression(featuresCol = \"scaledFeatures\", labelCol = \"Chance of Admit \")\n",
    "linear_model = lin_reg.fit(train_df_sc)"
   ]
  },
  {
   "cell_type": "code",
   "execution_count": 37,
   "metadata": {},
   "outputs": [
    {
     "name": "stdout",
     "output_type": "stream",
     "text": [
      "RMSE: 3.755278646595512e-15\n",
      "R2: 1.0\n"
     ]
    }
   ],
   "source": [
    "trainSummary = linear_model.summary\n",
    "print('RMSE:' ,trainSummary.rootMeanSquaredError)\n",
    "print('R2:' ,trainSummary.r2)"
   ]
  },
  {
   "cell_type": "code",
   "execution_count": 38,
   "metadata": {},
   "outputs": [],
   "source": [
    "#Predictions\n",
    "predictions= linear_model.transform(test_df_sc)\n",
    "# predictions.select(\"prediction\" , \"Chance of Admit \",\"features\").show()"
   ]
  },
  {
   "cell_type": "code",
   "execution_count": 39,
   "metadata": {},
   "outputs": [
    {
     "name": "stdout",
     "output_type": "stream",
     "text": [
      "+--------------------+----------------+--------------------+-------------------+\n",
      "|            features|Chance of Admit |      scaledFeatures|         prediction|\n",
      "+--------------------+----------------+--------------------+-------------------+\n",
      "|[290.0,100.0,1.0,...|            0.47|[0.0,0.2857142857...| 0.4699999988079123|\n",
      "|[294.0,95.0,1.0,1...|            0.49|[0.08,0.107142857...| 0.4900000095367446|\n",
      "|[295.0,99.0,2.0,2...|            0.57|[0.1,0.25,0.25,0....| 0.5699999928474463|\n",
      "|[296.0,97.0,2.0,1...|            0.49|[0.12,0.178571428...|0.49000000953674233|\n",
      "|[297.0,96.0,2.0,2...|            0.34|[0.14,0.142857142...| 0.3400000035762716|\n",
      "|[297.0,98.0,2.0,2...|            0.59|[0.14,0.214285714...| 0.5899999737739592|\n",
      "|[297.0,101.0,3.0,...|            0.57|[0.14,0.321428571...| 0.5699999928474428|\n",
      "|[298.0,99.0,2.0,4...|            0.46|[0.16,0.25,0.25,0...| 0.4600000083446496|\n",
      "|[299.0,96.0,2.0,1...|            0.54|[0.18,0.142857142...| 0.5400000214576712|\n",
      "|[299.0,100.0,1.0,...|            0.59|[0.18,0.285714285...| 0.5899999737739614|\n",
      "|[299.0,100.0,2.0,...|            0.51|[0.18,0.285714285...| 0.5099999904632572|\n",
      "|[299.0,100.0,2.0,...|            0.68|[0.18,0.285714285...| 0.6800000071525634|\n",
      "|[300.0,95.0,2.0,3...|            0.62|[0.2,0.1071428571...| 0.6200000047683725|\n",
      "|[300.0,102.0,2.0,...|            0.56|[0.2,0.3571428571...| 0.5600000023841887|\n",
      "|[300.0,102.0,3.0,...|            0.63|[0.2,0.3571428571...|  0.629999995231632|\n",
      "|[301.0,107.0,3.0,...|            0.62|[0.22,0.535714285...| 0.6200000047683752|\n",
      "|[304.0,100.0,4.0,...|            0.42|[0.28,0.285714285...|0.41999998688696827|\n",
      "|[304.0,103.0,5.0,...|            0.71|[0.28,0.392857142...| 0.7099999785423305|\n",
      "|[305.0,96.0,4.0,3...|            0.54|[0.3,0.1428571428...| 0.5400000214576619|\n",
      "|[305.0,105.0,2.0,...|            0.66|[0.3,0.4642857142...| 0.6600000262260479|\n",
      "+--------------------+----------------+--------------------+-------------------+\n",
      "only showing top 20 rows\n",
      "\n"
     ]
    }
   ],
   "source": [
    "predictions.show()"
   ]
  },
  {
   "cell_type": "code",
   "execution_count": 40,
   "metadata": {},
   "outputs": [
    {
     "name": "stdout",
     "output_type": "stream",
     "text": [
      "R Squared on Test Data :  1.0\n"
     ]
    }
   ],
   "source": [
    "from pyspark.ml.evaluation import RegressionEvaluator\n",
    "pred_evaluator = RegressionEvaluator(predictionCol = \"prediction\",\\\n",
    "                                    labelCol =\"Chance of Admit \",metricName =\"r2\")\n",
    "print(\"R Squared on Test Data : \", pred_evaluator.evaluate(predictions))"
   ]
  },
  {
   "cell_type": "markdown",
   "metadata": {},
   "source": [
    "## Random Forest Regressor"
   ]
  },
  {
   "cell_type": "code",
   "execution_count": 42,
   "metadata": {},
   "outputs": [],
   "source": [
    "from pyspark.ml.regression import RandomForestRegressor\n",
    "from pyspark.ml.evaluation import RegressionEvaluator\n",
    "random_forest_reg = RandomForestRegressor(featuresCol=\"scaledFeatures\",labelCol=\"Chance of Admit \" )\n",
    "rfr = random_forest_reg.fit(train_df_sc)"
   ]
  },
  {
   "cell_type": "code",
   "execution_count": 45,
   "metadata": {},
   "outputs": [],
   "source": [
    "#Predictions\n",
    "predictions= rfr.transform(test_df_sc)"
   ]
  },
  {
   "cell_type": "code",
   "execution_count": 46,
   "metadata": {},
   "outputs": [
    {
     "name": "stdout",
     "output_type": "stream",
     "text": [
      "+--------------------+----------------+--------------------+-------------------+\n",
      "|            features|Chance of Admit |      scaledFeatures|         prediction|\n",
      "+--------------------+----------------+--------------------+-------------------+\n",
      "|[290.0,100.0,1.0,...|            0.47|[0.0,0.2857142857...| 0.4728511474419026|\n",
      "|[294.0,95.0,1.0,1...|            0.49|[0.08,0.107142857...|0.45792404719046254|\n",
      "|[295.0,99.0,2.0,2...|            0.57|[0.1,0.25,0.25,0....| 0.5737547253582364|\n",
      "|[296.0,97.0,2.0,1...|            0.49|[0.12,0.178571428...|0.47014890617938426|\n",
      "|[297.0,96.0,2.0,2...|            0.34|[0.14,0.142857142...|0.43394697487372075|\n",
      "+--------------------+----------------+--------------------+-------------------+\n",
      "only showing top 5 rows\n",
      "\n"
     ]
    }
   ],
   "source": [
    "predictions.show(5)"
   ]
  },
  {
   "cell_type": "code",
   "execution_count": 48,
   "metadata": {},
   "outputs": [
    {
     "name": "stdout",
     "output_type": "stream",
     "text": [
      "Root Mean Squared Error (RMSE) on test data = 0.0244232\n"
     ]
    }
   ],
   "source": [
    "evaluator = RegressionEvaluator(\n",
    "    labelCol=\"Chance of Admit \", predictionCol=\"prediction\", metricName=\"rmse\")\n",
    "rmse = evaluator.evaluate(predictions)\n",
    "print (\"Root Mean Squared Error (RMSE) on test data = %g\" % rmse)"
   ]
  },
  {
   "cell_type": "markdown",
   "metadata": {},
   "source": [
    "## Gradient Boosting Regressor"
   ]
  },
  {
   "cell_type": "code",
   "execution_count": 92,
   "metadata": {},
   "outputs": [],
   "source": [
    "from pyspark.ml.regression import GBTRegressor\n",
    "gbt = GBTRegressor(featuresCol=\"scaledFeatures\",labelCol=\"Chance of Admit \", maxIter=10)\n",
    "model = gbt.fit(train_df_sc)"
   ]
  },
  {
   "cell_type": "code",
   "execution_count": 93,
   "metadata": {},
   "outputs": [],
   "source": [
    "#Predictions\n",
    "predictions= model.transform(test_df_sc)"
   ]
  },
  {
   "cell_type": "code",
   "execution_count": 94,
   "metadata": {},
   "outputs": [
    {
     "name": "stdout",
     "output_type": "stream",
     "text": [
      "+--------------------+----------------+--------------------+-------------------+\n",
      "|            features|Chance of Admit |      scaledFeatures|         prediction|\n",
      "+--------------------+----------------+--------------------+-------------------+\n",
      "|[290.0,100.0,1.0,...|            0.47|[0.0,0.2592592592...|0.45654670564795935|\n",
      "|[294.0,95.0,1.0,1...|            0.49|[0.08,0.074074074...| 0.4594239499691532|\n",
      "|[295.0,93.0,1.0,2...|            0.46|[0.1,0.0,0.0,0.25...| 0.4538213249374192|\n",
      "|[295.0,96.0,2.0,1...|            0.47|[0.1,0.1111111111...|0.45768106070898185|\n",
      "|[295.0,101.0,2.0,...|            0.69|[0.1,0.2962962962...| 0.6852992292604841|\n",
      "+--------------------+----------------+--------------------+-------------------+\n",
      "only showing top 5 rows\n",
      "\n"
     ]
    }
   ],
   "source": [
    "predictions.show(5)"
   ]
  },
  {
   "cell_type": "code",
   "execution_count": 95,
   "metadata": {},
   "outputs": [
    {
     "name": "stdout",
     "output_type": "stream",
     "text": [
      "Root Mean Squared Error (RMSE) on test data = 0.0117592\n"
     ]
    }
   ],
   "source": [
    "evaluator = RegressionEvaluator(\n",
    "    labelCol=\"Chance of Admit \", predictionCol=\"prediction\", metricName=\"rmse\")\n",
    "rmse = evaluator.evaluate(predictions)\n",
    "print (\"Root Mean Squared Error (RMSE) on test data = %g\" % rmse)"
   ]
  },
  {
   "cell_type": "code",
   "execution_count": 49,
   "metadata": {},
   "outputs": [],
   "source": [
    "spark.stop()"
   ]
  },
  {
   "cell_type": "code",
   "execution_count": null,
   "metadata": {},
   "outputs": [],
   "source": []
  }
 ],
 "metadata": {
  "kernelspec": {
   "display_name": "Python 3",
   "language": "python",
   "name": "python3"
  },
  "language_info": {
   "codemirror_mode": {
    "name": "ipython",
    "version": 3
   },
   "file_extension": ".py",
   "mimetype": "text/x-python",
   "name": "python",
   "nbconvert_exporter": "python",
   "pygments_lexer": "ipython3",
   "version": "3.7.4"
  }
 },
 "nbformat": 4,
 "nbformat_minor": 2
}
