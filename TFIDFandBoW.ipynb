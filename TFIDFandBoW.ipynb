{
 "cells": [
  {
   "cell_type": "code",
   "execution_count": 1,
   "metadata": {
    "colab": {
     "base_uri": "https://localhost:8080/",
     "height": 382
    },
    "colab_type": "code",
    "id": "7TCX9eOpnKde",
    "outputId": "521a3879-6c01-44f5-ed7a-799a933f7512"
   },
   "outputs": [],
   "source": [
    "from __future__ import print_function\n",
    "import findspark\n",
    "import os\n",
    "import sys\n",
    "os.environ['SPARK_HOME'] = r'/Users/subham/Downloads/spark-3.0.0-bin-hadoop2.7'\n",
    "findspark.init()\n",
    "findspark.find()\n",
    "import pyspark\n",
    "from pyspark.sql import SparkSession\n",
    "from pyspark.ml.feature import HashingTF\n",
    "from pyspark.ml.feature import Tokenizer\n",
    "from pyspark.ml.feature import IDF"
   ]
  },
  {
   "cell_type": "code",
   "execution_count": 2,
   "metadata": {
    "colab": {},
    "colab_type": "code",
    "id": "PscXqTWSnKdi"
   },
   "outputs": [],
   "source": [
    "if __name__ == \"__main__\":\n",
    "    spark = SparkSession\\\n",
    "        .builder\\\n",
    "        .appName(\"Tf-Idf\")\\\n",
    "        .getOrCreate()"
   ]
  },
  {
   "cell_type": "markdown",
   "metadata": {},
   "source": [
    "## TFIDF"
   ]
  },
  {
   "cell_type": "code",
   "execution_count": 3,
   "metadata": {
    "colab": {},
    "colab_type": "code",
    "id": "NZ1ieuKcnKdl"
   },
   "outputs": [],
   "source": [
    "documentDF = spark.createDataFrame([\n",
    "        (0,\"Let's see an example of countVectorizer\"),\n",
    "        (1,\"We will use pyspark library\"),\n",
    "        (2,\"countVectorizer is important for NLP\")\n",
    "    ], [\"index\",\"sentence\"])"
   ]
  },
  {
   "cell_type": "code",
   "execution_count": 4,
   "metadata": {
    "colab": {},
    "colab_type": "code",
    "id": "IPUdSrIPnKdo",
    "outputId": "29c7c6de-03a3-4ad8-da2a-2dc5ed4178ff"
   },
   "outputs": [
    {
     "name": "stdout",
     "output_type": "stream",
     "text": [
      "+-----+---------------------------------------+\n",
      "|index|sentence                               |\n",
      "+-----+---------------------------------------+\n",
      "|0    |Let's see an example of countVectorizer|\n",
      "|1    |We will use pyspark library            |\n",
      "|2    |countVectorizer is important for NLP   |\n",
      "+-----+---------------------------------------+\n",
      "\n"
     ]
    }
   ],
   "source": [
    "documentDF.show(truncate=False)"
   ]
  },
  {
   "cell_type": "code",
   "execution_count": 5,
   "metadata": {
    "colab": {},
    "colab_type": "code",
    "id": "O5b2IDmpnKdt"
   },
   "outputs": [],
   "source": [
    "tokenizer = Tokenizer(inputCol=\"sentence\", outputCol=\"words\")\n"
   ]
  },
  {
   "cell_type": "code",
   "execution_count": 6,
   "metadata": {
    "colab": {},
    "colab_type": "code",
    "id": "48fHxuX7nKdw"
   },
   "outputs": [],
   "source": [
    "wordsDf = tokenizer.transform(documentDF)"
   ]
  },
  {
   "cell_type": "code",
   "execution_count": 7,
   "metadata": {
    "colab": {},
    "colab_type": "code",
    "id": "xfoq3B6xnKdz",
    "outputId": "d99cbe30-da6c-4a69-f55f-82588495ccc4"
   },
   "outputs": [
    {
     "name": "stdout",
     "output_type": "stream",
     "text": [
      "+-----+---------------------------------------+----------------------------------------------+\n",
      "|index|sentence                               |words                                         |\n",
      "+-----+---------------------------------------+----------------------------------------------+\n",
      "|0    |Let's see an example of countVectorizer|[let's, see, an, example, of, countvectorizer]|\n",
      "|1    |We will use pyspark library            |[we, will, use, pyspark, library]             |\n",
      "|2    |countVectorizer is important for NLP   |[countvectorizer, is, important, for, nlp]    |\n",
      "+-----+---------------------------------------+----------------------------------------------+\n",
      "\n"
     ]
    }
   ],
   "source": [
    "wordsDf.show(truncate=False)"
   ]
  },
  {
   "cell_type": "code",
   "execution_count": 8,
   "metadata": {
    "colab": {},
    "colab_type": "code",
    "id": "Rdt9NJE1nKd3"
   },
   "outputs": [],
   "source": [
    "TF = HashingTF(inputCol=\"words\", outputCol=\"term_frequency\")"
   ]
  },
  {
   "cell_type": "code",
   "execution_count": 9,
   "metadata": {
    "colab": {},
    "colab_type": "code",
    "id": "KTXFYkA8nKd6"
   },
   "outputs": [],
   "source": [
    "\n",
    "tf_data = TF.transform(wordsDf)"
   ]
  },
  {
   "cell_type": "code",
   "execution_count": 10,
   "metadata": {
    "colab": {},
    "colab_type": "code",
    "id": "zm6tq0gInKd-",
    "outputId": "25a6e910-915b-4c3e-8bd4-eae4be5f9c3d"
   },
   "outputs": [
    {
     "name": "stdout",
     "output_type": "stream",
     "text": [
      "+-----+---------------------------------------+----------------------------------------------+---------------------------------------------------------------------------+\n",
      "|index|sentence                               |words                                         |term_frequency                                                             |\n",
      "+-----+---------------------------------------+----------------------------------------------+---------------------------------------------------------------------------+\n",
      "|0    |Let's see an example of countVectorizer|[let's, see, an, example, of, countvectorizer]|(262144,[8538,75750,143202,152540,165615,219087],[1.0,1.0,1.0,1.0,1.0,1.0])|\n",
      "|1    |We will use pyspark library            |[we, will, use, pyspark, library]             |(262144,[89356,98717,133073,156084,248899],[1.0,1.0,1.0,1.0,1.0])          |\n",
      "|2    |countVectorizer is important for NLP   |[countvectorizer, is, important, for, nlp]    |(262144,[15391,76307,106776,106841,152540],[1.0,1.0,1.0,1.0,1.0])          |\n",
      "+-----+---------------------------------------+----------------------------------------------+---------------------------------------------------------------------------+\n",
      "\n"
     ]
    }
   ],
   "source": [
    "tf_data.show(truncate=False)"
   ]
  },
  {
   "cell_type": "code",
   "execution_count": 11,
   "metadata": {
    "colab": {},
    "colab_type": "code",
    "id": "2x2RLHUYnKeC"
   },
   "outputs": [],
   "source": [
    "idf = IDF(inputCol=\"term_frequency\", outputCol=\"idf\")"
   ]
  },
  {
   "cell_type": "code",
   "execution_count": 12,
   "metadata": {
    "colab": {},
    "colab_type": "code",
    "id": "7Hxvte4snKeF"
   },
   "outputs": [],
   "source": [
    "idf_Model = idf.fit(tf_data)"
   ]
  },
  {
   "cell_type": "code",
   "execution_count": 13,
   "metadata": {
    "colab": {},
    "colab_type": "code",
    "id": "Z0e9KYJrnKeI"
   },
   "outputs": [],
   "source": [
    "new_Data = idf_Model.transform(tf_data)"
   ]
  },
  {
   "cell_type": "code",
   "execution_count": 14,
   "metadata": {
    "colab": {},
    "colab_type": "code",
    "id": "2saFVWXynKeK",
    "outputId": "da29623a-59cd-4f5d-f8af-f316d15c4a40"
   },
   "outputs": [
    {
     "name": "stdout",
     "output_type": "stream",
     "text": [
      "+-----+----------------------------------------------------------------------------------------------------------------------------------------------------------------------+\n",
      "|index|idf                                                                                                                                                                   |\n",
      "+-----+----------------------------------------------------------------------------------------------------------------------------------------------------------------------+\n",
      "|0    |(262144,[8538,75750,143202,152540,165615,219087],[0.6931471805599453,0.6931471805599453,0.6931471805599453,0.28768207245178085,0.6931471805599453,0.6931471805599453])|\n",
      "|1    |(262144,[89356,98717,133073,156084,248899],[0.6931471805599453,0.6931471805599453,0.6931471805599453,0.6931471805599453,0.6931471805599453])                          |\n",
      "|2    |(262144,[15391,76307,106776,106841,152540],[0.6931471805599453,0.6931471805599453,0.6931471805599453,0.6931471805599453,0.28768207245178085])                         |\n",
      "+-----+----------------------------------------------------------------------------------------------------------------------------------------------------------------------+\n",
      "\n"
     ]
    }
   ],
   "source": [
    "new_Data.select(\"index\", \"idf\").show(truncate=False)"
   ]
  },
  {
   "cell_type": "code",
   "execution_count": null,
   "metadata": {
    "colab": {},
    "colab_type": "code",
    "id": "1JzoiKGonKeO"
   },
   "outputs": [],
   "source": [
    "spark.stop()"
   ]
  },
  {
   "cell_type": "markdown",
   "metadata": {
    "colab": {},
    "colab_type": "code",
    "id": "exYtRp2snKeR"
   },
   "source": [
    "## CountVectorizer"
   ]
  },
  {
   "cell_type": "code",
   "execution_count": 20,
   "metadata": {},
   "outputs": [],
   "source": [
    "from pyspark.ml.feature import StringIndexer\n",
    "from pyspark.ml.feature import CountVectorizer"
   ]
  },
  {
   "cell_type": "code",
   "execution_count": 15,
   "metadata": {},
   "outputs": [],
   "source": [
    "if __name__ == \"__main__\":\n",
    "    spark = SparkSession\\\n",
    "        .builder\\\n",
    "        .appName(\"countVectorizer\")\\\n",
    "        .getOrCreate()"
   ]
  },
  {
   "cell_type": "code",
   "execution_count": 16,
   "metadata": {},
   "outputs": [],
   "source": [
    "documentDF = spark.createDataFrame([\n",
    "        (\"Let's see an example of countVectorizer\".split(\" \"),),\n",
    "        (\"We will use pyspark library my name is my name is  \".split(\" \"),),\n",
    "        (\"countVectorizer is important for NLP\".split(\" \"),)\n",
    "    ], [\"sentence\"])"
   ]
  },
  {
   "cell_type": "code",
   "execution_count": 17,
   "metadata": {},
   "outputs": [
    {
     "name": "stdout",
     "output_type": "stream",
     "text": [
      "+--------------------+\n",
      "|            sentence|\n",
      "+--------------------+\n",
      "|[Let's, see, an, ...|\n",
      "|[We, will, use, p...|\n",
      "|[countVectorizer,...|\n",
      "+--------------------+\n",
      "\n"
     ]
    }
   ],
   "source": [
    "documentDF.show()"
   ]
  },
  {
   "cell_type": "code",
   "execution_count": 18,
   "metadata": {},
   "outputs": [
    {
     "name": "stdout",
     "output_type": "stream",
     "text": [
      "+-----------------------------------------------------------------+\n",
      "|sentence                                                         |\n",
      "+-----------------------------------------------------------------+\n",
      "|[Let's, see, an, example, of, countVectorizer]                   |\n",
      "|[We, will, use, pyspark, library, my, name, is, my, name, is, , ]|\n",
      "|[countVectorizer, is, important, for, NLP]                       |\n",
      "+-----------------------------------------------------------------+\n",
      "\n"
     ]
    }
   ],
   "source": [
    "documentDF.show(truncate=False)"
   ]
  },
  {
   "cell_type": "code",
   "execution_count": 21,
   "metadata": {},
   "outputs": [
    {
     "data": {
      "text/plain": [
       "CountVectorizer_3fc26f58e1ce"
      ]
     },
     "execution_count": 21,
     "metadata": {},
     "output_type": "execute_result"
    }
   ],
   "source": [
    "count_vector = CountVectorizer(inputCol=\"sentence\", outputCol=\"count_vector\")\n",
    "count_vector"
   ]
  },
  {
   "cell_type": "code",
   "execution_count": 22,
   "metadata": {},
   "outputs": [],
   "source": [
    "model = count_vector.fit(documentDF)"
   ]
  },
  {
   "cell_type": "code",
   "execution_count": 23,
   "metadata": {},
   "outputs": [],
   "source": [
    "result = model.transform(documentDF)"
   ]
  },
  {
   "cell_type": "code",
   "execution_count": 24,
   "metadata": {},
   "outputs": [
    {
     "name": "stdout",
     "output_type": "stream",
     "text": [
      "+-----------------------------------------------------------------+----------------------------------------------------------------+\n",
      "|sentence                                                         |count_vector                                                    |\n",
      "+-----------------------------------------------------------------+----------------------------------------------------------------+\n",
      "|[Let's, see, an, example, of, countVectorizer]                   |(18,[1,7,8,11,13,14],[1.0,1.0,1.0,1.0,1.0,1.0])                 |\n",
      "|[We, will, use, pyspark, library, my, name, is, my, name, is, , ]|(18,[0,2,3,4,5,6,9,10,12],[2.0,2.0,2.0,2.0,1.0,1.0,1.0,1.0,1.0])|\n",
      "|[countVectorizer, is, important, for, NLP]                       |(18,[0,1,15,16,17],[1.0,1.0,1.0,1.0,1.0])                       |\n",
      "+-----------------------------------------------------------------+----------------------------------------------------------------+\n",
      "\n"
     ]
    }
   ],
   "source": [
    "result.show(truncate=False)"
   ]
  },
  {
   "cell_type": "code",
   "execution_count": null,
   "metadata": {},
   "outputs": [],
   "source": []
  }
 ],
 "metadata": {
  "colab": {
   "name": "Tf-idF.ipynb",
   "provenance": []
  },
  "kernelspec": {
   "display_name": "Python 3",
   "language": "python",
   "name": "python3"
  },
  "language_info": {
   "codemirror_mode": {
    "name": "ipython",
    "version": 3
   },
   "file_extension": ".py",
   "mimetype": "text/x-python",
   "name": "python",
   "nbconvert_exporter": "python",
   "pygments_lexer": "ipython3",
   "version": "3.7.4"
  }
 },
 "nbformat": 4,
 "nbformat_minor": 1
}
