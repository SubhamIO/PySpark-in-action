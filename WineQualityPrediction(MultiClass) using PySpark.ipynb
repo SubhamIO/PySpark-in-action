{
 "cells": [
  {
   "cell_type": "code",
   "execution_count": 2,
   "metadata": {
    "colab": {},
    "colab_type": "code",
    "id": "Go6ezrpT3t9l"
   },
   "outputs": [],
   "source": [
    "from __future__ import print_function\n",
    "import findspark\n",
    "import os\n",
    "os.environ['SPARK_HOME'] = r'/Users/subham/Downloads/spark-3.0.0-bin-hadoop2.7'\n",
    "findspark.init()\n",
    "findspark.find()\n",
    "import pyspark\n",
    "findspark.find()\n",
    "from pyspark.sql import SparkSession\n",
    "from pyspark.ml.feature import VectorAssembler\n",
    "from pyspark.ml.classification import NaiveBayes\n",
    "from pyspark.ml.feature import StandardScaler\n",
    "from pyspark.ml.evaluation import MulticlassClassificationEvaluator\n",
    "from pyspark.ml.feature import StringIndexer"
   ]
  },
  {
   "cell_type": "code",
   "execution_count": 3,
   "metadata": {
    "colab": {},
    "colab_type": "code",
    "id": "ZOicAELR3t9p"
   },
   "outputs": [],
   "source": [
    "if __name__ == \"__main__\":\n",
    "    spark = SparkSession\\\n",
    "        .builder\\\n",
    "        .appName(\"MultiClass\")\\\n",
    "        .getOrCreate()"
   ]
  },
  {
   "cell_type": "code",
   "execution_count": 4,
   "metadata": {
    "colab": {},
    "colab_type": "code",
    "id": "5Uw26C0M3t9u"
   },
   "outputs": [],
   "source": [
    "dataset = spark.read.csv(\"/Users/subham/Desktop/PySpark/winequality_red.csv\",header=True)"
   ]
  },
  {
   "cell_type": "code",
   "execution_count": 5,
   "metadata": {
    "colab": {},
    "colab_type": "code",
    "id": "I8Q1Brek3t9x",
    "outputId": "7a85e481-a8aa-48b4-907d-6295723aa7c1"
   },
   "outputs": [
    {
     "name": "stdout",
     "output_type": "stream",
     "text": [
      "+-------------+----------------+-----------+--------------+-------------------+-------------------+--------------------+-------+----+---------+-------+-------+\n",
      "|fixed acidity|volatile acidity|citric acid|residual sugar|          chlorides|free sulfur dioxide|total sulfur dioxide|density|  pH|sulphates|alcohol|quality|\n",
      "+-------------+----------------+-----------+--------------+-------------------+-------------------+--------------------+-------+----+---------+-------+-------+\n",
      "|          7.4|             0.7|        0.0|           1.9|              0.076|               11.0|                34.0| 0.9978|3.51|     0.56|    9.4|      5|\n",
      "|          7.8|            0.88|        0.0|           2.6|              0.098|               25.0|                67.0| 0.9968| 3.2|     0.68|    9.8|      5|\n",
      "|          7.8|            0.76|       0.04|           2.3|              0.092|               15.0|                54.0|  0.997|3.26|     0.65|    9.8|      5|\n",
      "|         11.2|            0.28|       0.56|           1.9|              0.075|               17.0|                60.0|  0.998|3.16|     0.58|    9.8|      6|\n",
      "|          7.4|             0.7|        0.0|           1.9|              0.076|               11.0|                34.0| 0.9978|3.51|     0.56|    9.4|      5|\n",
      "|          7.4|            0.66|        0.0|           1.8|              0.075|               13.0|                40.0| 0.9978|3.51|     0.56|    9.4|      5|\n",
      "|          7.9|             0.6|       0.06|           1.6|              0.069|               15.0|                59.0| 0.9964| 3.3|     0.46|    9.4|      5|\n",
      "|          7.3|            0.65|        0.0|           1.2|              0.065|               15.0|                21.0| 0.9946|3.39|     0.47|   10.0|      7|\n",
      "|          7.8|            0.58|       0.02|           2.0|              0.073|                9.0|                18.0| 0.9968|3.36|     0.57|    9.5|      7|\n",
      "|          7.5|             0.5|       0.36|           6.1|              0.071|               17.0|               102.0| 0.9978|3.35|      0.8|   10.5|      5|\n",
      "|          6.7|            0.58|       0.08|           1.8|0.09699999999999999|               15.0|                65.0| 0.9959|3.28|     0.54|    9.2|      5|\n",
      "|          7.5|             0.5|       0.36|           6.1|              0.071|               17.0|               102.0| 0.9978|3.35|      0.8|   10.5|      5|\n",
      "|          5.6|           0.615|        0.0|           1.6|0.08900000000000001|               16.0|                59.0| 0.9943|3.58|     0.52|    9.9|      5|\n",
      "|          7.8|            0.61|       0.29|           1.6|              0.114|                9.0|                29.0| 0.9974|3.26|     1.56|    9.1|      5|\n",
      "|          8.9|            0.62|       0.18|           3.8|0.17600000000000002|               52.0|               145.0| 0.9986|3.16|     0.88|    9.2|      5|\n",
      "|          8.9|            0.62|       0.19|           3.9|               0.17|               51.0|               148.0| 0.9986|3.17|     0.93|    9.2|      5|\n",
      "|          8.5|            0.28|       0.56|           1.8|              0.092|               35.0|               103.0| 0.9969| 3.3|     0.75|   10.5|      7|\n",
      "|          8.1|            0.56|       0.28|           1.7|              0.368|               16.0|                56.0| 0.9968|3.11|     1.28|    9.3|      5|\n",
      "|          7.4|            0.59|       0.08|           4.4|              0.086|                6.0|                29.0| 0.9974|3.38|      0.5|    9.0|      4|\n",
      "|          7.9|            0.32|       0.51|           1.8|              0.341|               17.0|                56.0| 0.9969|3.04|     1.08|    9.2|      6|\n",
      "+-------------+----------------+-----------+--------------+-------------------+-------------------+--------------------+-------+----+---------+-------+-------+\n",
      "only showing top 20 rows\n",
      "\n"
     ]
    }
   ],
   "source": [
    "dataset.show()"
   ]
  },
  {
   "cell_type": "code",
   "execution_count": 6,
   "metadata": {
    "colab": {},
    "colab_type": "code",
    "id": "bBGhFLPT3t90",
    "outputId": "b9732dd6-5ed9-4173-f91e-a9859e118a6d"
   },
   "outputs": [
    {
     "name": "stdout",
     "output_type": "stream",
     "text": [
      "root\n",
      " |-- fixed acidity: string (nullable = true)\n",
      " |-- volatile acidity: string (nullable = true)\n",
      " |-- citric acid: string (nullable = true)\n",
      " |-- residual sugar: string (nullable = true)\n",
      " |-- chlorides: string (nullable = true)\n",
      " |-- free sulfur dioxide: string (nullable = true)\n",
      " |-- total sulfur dioxide: string (nullable = true)\n",
      " |-- density: string (nullable = true)\n",
      " |-- pH: string (nullable = true)\n",
      " |-- sulphates: string (nullable = true)\n",
      " |-- alcohol: string (nullable = true)\n",
      " |-- quality: string (nullable = true)\n",
      "\n"
     ]
    }
   ],
   "source": [
    "dataset.printSchema()"
   ]
  },
  {
   "cell_type": "markdown",
   "metadata": {},
   "source": [
    "## Convert to numerical"
   ]
  },
  {
   "cell_type": "code",
   "execution_count": 7,
   "metadata": {
    "colab": {},
    "colab_type": "code",
    "id": "fjv49-Nt3t93"
   },
   "outputs": [],
   "source": [
    "from pyspark.sql.functions import col\n",
    "new_data = dataset.select(*(col(c).cast(\"float\").alias(c) for c in dataset.columns))"
   ]
  },
  {
   "cell_type": "code",
   "execution_count": 8,
   "metadata": {
    "colab": {},
    "colab_type": "code",
    "id": "uyqvl72J3t97",
    "outputId": "2dbd1a60-e886-4452-cfd4-12b8fd53b5d3"
   },
   "outputs": [
    {
     "name": "stdout",
     "output_type": "stream",
     "text": [
      "root\n",
      " |-- fixed acidity: float (nullable = true)\n",
      " |-- volatile acidity: float (nullable = true)\n",
      " |-- citric acid: float (nullable = true)\n",
      " |-- residual sugar: float (nullable = true)\n",
      " |-- chlorides: float (nullable = true)\n",
      " |-- free sulfur dioxide: float (nullable = true)\n",
      " |-- total sulfur dioxide: float (nullable = true)\n",
      " |-- density: float (nullable = true)\n",
      " |-- pH: float (nullable = true)\n",
      " |-- sulphates: float (nullable = true)\n",
      " |-- alcohol: float (nullable = true)\n",
      " |-- quality: float (nullable = true)\n",
      "\n"
     ]
    }
   ],
   "source": [
    "new_data.printSchema()"
   ]
  },
  {
   "cell_type": "markdown",
   "metadata": {},
   "source": [
    "## Correlation among features"
   ]
  },
  {
   "cell_type": "code",
   "execution_count": 31,
   "metadata": {},
   "outputs": [],
   "source": [
    "from pyspark.mllib.stat import Statistics\n",
    "from pyspark import SparkContext\n",
    "from pyspark import SparkConf\n",
    "import pandas as pd"
   ]
  },
  {
   "cell_type": "markdown",
   "metadata": {},
   "source": [
    "###  We need to convert dataframe intp a RDD to check for correlation"
   ]
  },
  {
   "cell_type": "code",
   "execution_count": 29,
   "metadata": {},
   "outputs": [],
   "source": [
    "col_names = new_data.columns\n",
    "features_set = new_data.rdd.map(lambda row: row[0:])"
   ]
  },
  {
   "cell_type": "code",
   "execution_count": 32,
   "metadata": {},
   "outputs": [],
   "source": [
    "corr_mat=Statistics.corr(features_set, method=\"pearson\")\n",
    "corr_df = pd.DataFrame(corr_mat)\n",
    "corr_df.index, corr_df.columns = col_names, col_names"
   ]
  },
  {
   "cell_type": "markdown",
   "metadata": {},
   "source": [
    "## Dataframe to Heatmap"
   ]
  },
  {
   "cell_type": "code",
   "execution_count": 33,
   "metadata": {},
   "outputs": [
    {
     "data": {
      "text/html": [
       "<style  type=\"text/css\" >\n",
       "    #T_76dd5eac_cf0d_11ea_800b_98460a9bb7d6row0_col0 {\n",
       "            background-color:  #08306b;\n",
       "            color:  #f1f1f1;\n",
       "        }    #T_76dd5eac_cf0d_11ea_800b_98460a9bb7d6row0_col1 {\n",
       "            background-color:  #d2e3f3;\n",
       "            color:  #000000;\n",
       "        }    #T_76dd5eac_cf0d_11ea_800b_98460a9bb7d6row0_col2 {\n",
       "            background-color:  #1967ad;\n",
       "            color:  #f1f1f1;\n",
       "        }    #T_76dd5eac_cf0d_11ea_800b_98460a9bb7d6row0_col3 {\n",
       "            background-color:  #d3e3f3;\n",
       "            color:  #000000;\n",
       "        }    #T_76dd5eac_cf0d_11ea_800b_98460a9bb7d6row0_col4 {\n",
       "            background-color:  #bcd7eb;\n",
       "            color:  #000000;\n",
       "        }    #T_76dd5eac_cf0d_11ea_800b_98460a9bb7d6row0_col5 {\n",
       "            background-color:  #f7fbff;\n",
       "            color:  #000000;\n",
       "        }    #T_76dd5eac_cf0d_11ea_800b_98460a9bb7d6row0_col6 {\n",
       "            background-color:  #e8f1fa;\n",
       "            color:  #000000;\n",
       "        }    #T_76dd5eac_cf0d_11ea_800b_98460a9bb7d6row0_col7 {\n",
       "            background-color:  #1b69af;\n",
       "            color:  #f1f1f1;\n",
       "        }    #T_76dd5eac_cf0d_11ea_800b_98460a9bb7d6row0_col8 {\n",
       "            background-color:  #f7fbff;\n",
       "            color:  #000000;\n",
       "        }    #T_76dd5eac_cf0d_11ea_800b_98460a9bb7d6row0_col9 {\n",
       "            background-color:  #a5cde3;\n",
       "            color:  #000000;\n",
       "        }    #T_76dd5eac_cf0d_11ea_800b_98460a9bb7d6row0_col10 {\n",
       "            background-color:  #b9d6ea;\n",
       "            color:  #000000;\n",
       "        }    #T_76dd5eac_cf0d_11ea_800b_98460a9bb7d6row0_col11 {\n",
       "            background-color:  #a0cbe2;\n",
       "            color:  #000000;\n",
       "        }    #T_76dd5eac_cf0d_11ea_800b_98460a9bb7d6row1_col0 {\n",
       "            background-color:  #c6dbef;\n",
       "            color:  #000000;\n",
       "        }    #T_76dd5eac_cf0d_11ea_800b_98460a9bb7d6row1_col1 {\n",
       "            background-color:  #08306b;\n",
       "            color:  #f1f1f1;\n",
       "        }    #T_76dd5eac_cf0d_11ea_800b_98460a9bb7d6row1_col2 {\n",
       "            background-color:  #f7fbff;\n",
       "            color:  #000000;\n",
       "        }    #T_76dd5eac_cf0d_11ea_800b_98460a9bb7d6row1_col3 {\n",
       "            background-color:  #e7f1fa;\n",
       "            color:  #000000;\n",
       "        }    #T_76dd5eac_cf0d_11ea_800b_98460a9bb7d6row1_col4 {\n",
       "            background-color:  #c3daee;\n",
       "            color:  #000000;\n",
       "        }    #T_76dd5eac_cf0d_11ea_800b_98460a9bb7d6row1_col5 {\n",
       "            background-color:  #dfebf7;\n",
       "            color:  #000000;\n",
       "        }    #T_76dd5eac_cf0d_11ea_800b_98460a9bb7d6row1_col6 {\n",
       "            background-color:  #caddf0;\n",
       "            color:  #000000;\n",
       "        }    #T_76dd5eac_cf0d_11ea_800b_98460a9bb7d6row1_col7 {\n",
       "            background-color:  #a8cee4;\n",
       "            color:  #000000;\n",
       "        }    #T_76dd5eac_cf0d_11ea_800b_98460a9bb7d6row1_col8 {\n",
       "            background-color:  #5ca4d0;\n",
       "            color:  #000000;\n",
       "        }    #T_76dd5eac_cf0d_11ea_800b_98460a9bb7d6row1_col9 {\n",
       "            background-color:  #f7fbff;\n",
       "            color:  #000000;\n",
       "        }    #T_76dd5eac_cf0d_11ea_800b_98460a9bb7d6row1_col10 {\n",
       "            background-color:  #d0e2f2;\n",
       "            color:  #000000;\n",
       "        }    #T_76dd5eac_cf0d_11ea_800b_98460a9bb7d6row1_col11 {\n",
       "            background-color:  #f7fbff;\n",
       "            color:  #000000;\n",
       "        }    #T_76dd5eac_cf0d_11ea_800b_98460a9bb7d6row2_col0 {\n",
       "            background-color:  #1562a9;\n",
       "            color:  #f1f1f1;\n",
       "        }    #T_76dd5eac_cf0d_11ea_800b_98460a9bb7d6row2_col1 {\n",
       "            background-color:  #f7fbff;\n",
       "            color:  #000000;\n",
       "        }    #T_76dd5eac_cf0d_11ea_800b_98460a9bb7d6row2_col2 {\n",
       "            background-color:  #08306b;\n",
       "            color:  #f1f1f1;\n",
       "        }    #T_76dd5eac_cf0d_11ea_800b_98460a9bb7d6row2_col3 {\n",
       "            background-color:  #cde0f1;\n",
       "            color:  #000000;\n",
       "        }    #T_76dd5eac_cf0d_11ea_800b_98460a9bb7d6row2_col4 {\n",
       "            background-color:  #a0cbe2;\n",
       "            color:  #000000;\n",
       "        }    #T_76dd5eac_cf0d_11ea_800b_98460a9bb7d6row2_col5 {\n",
       "            background-color:  #e7f1fa;\n",
       "            color:  #000000;\n",
       "        }    #T_76dd5eac_cf0d_11ea_800b_98460a9bb7d6row2_col6 {\n",
       "            background-color:  #d0e1f2;\n",
       "            color:  #000000;\n",
       "        }    #T_76dd5eac_cf0d_11ea_800b_98460a9bb7d6row2_col7 {\n",
       "            background-color:  #529dcc;\n",
       "            color:  #000000;\n",
       "        }    #T_76dd5eac_cf0d_11ea_800b_98460a9bb7d6row2_col8 {\n",
       "            background-color:  #e7f0fa;\n",
       "            color:  #000000;\n",
       "        }    #T_76dd5eac_cf0d_11ea_800b_98460a9bb7d6row2_col9 {\n",
       "            background-color:  #7db8da;\n",
       "            color:  #000000;\n",
       "        }    #T_76dd5eac_cf0d_11ea_800b_98460a9bb7d6row2_col10 {\n",
       "            background-color:  #92c4de;\n",
       "            color:  #000000;\n",
       "        }    #T_76dd5eac_cf0d_11ea_800b_98460a9bb7d6row2_col11 {\n",
       "            background-color:  #82bbdb;\n",
       "            color:  #000000;\n",
       "        }    #T_76dd5eac_cf0d_11ea_800b_98460a9bb7d6row3_col0 {\n",
       "            background-color:  #75b4d8;\n",
       "            color:  #000000;\n",
       "        }    #T_76dd5eac_cf0d_11ea_800b_98460a9bb7d6row3_col1 {\n",
       "            background-color:  #a4cce3;\n",
       "            color:  #000000;\n",
       "        }    #T_76dd5eac_cf0d_11ea_800b_98460a9bb7d6row3_col2 {\n",
       "            background-color:  #81badb;\n",
       "            color:  #000000;\n",
       "        }    #T_76dd5eac_cf0d_11ea_800b_98460a9bb7d6row3_col3 {\n",
       "            background-color:  #08306b;\n",
       "            color:  #f1f1f1;\n",
       "        }    #T_76dd5eac_cf0d_11ea_800b_98460a9bb7d6row3_col4 {\n",
       "            background-color:  #c6dbef;\n",
       "            color:  #000000;\n",
       "        }    #T_76dd5eac_cf0d_11ea_800b_98460a9bb7d6row3_col5 {\n",
       "            background-color:  #b8d5ea;\n",
       "            color:  #000000;\n",
       "        }    #T_76dd5eac_cf0d_11ea_800b_98460a9bb7d6row3_col6 {\n",
       "            background-color:  #aacfe5;\n",
       "            color:  #000000;\n",
       "        }    #T_76dd5eac_cf0d_11ea_800b_98460a9bb7d6row3_col7 {\n",
       "            background-color:  #549fcd;\n",
       "            color:  #000000;\n",
       "        }    #T_76dd5eac_cf0d_11ea_800b_98460a9bb7d6row3_col8 {\n",
       "            background-color:  #a5cde3;\n",
       "            color:  #000000;\n",
       "        }    #T_76dd5eac_cf0d_11ea_800b_98460a9bb7d6row3_col9 {\n",
       "            background-color:  #cde0f1;\n",
       "            color:  #000000;\n",
       "        }    #T_76dd5eac_cf0d_11ea_800b_98460a9bb7d6row3_col10 {\n",
       "            background-color:  #a3cce3;\n",
       "            color:  #000000;\n",
       "        }    #T_76dd5eac_cf0d_11ea_800b_98460a9bb7d6row3_col11 {\n",
       "            background-color:  #b9d6ea;\n",
       "            color:  #000000;\n",
       "        }    #T_76dd5eac_cf0d_11ea_800b_98460a9bb7d6row4_col0 {\n",
       "            background-color:  #7ab6d9;\n",
       "            color:  #000000;\n",
       "        }    #T_76dd5eac_cf0d_11ea_800b_98460a9bb7d6row4_col1 {\n",
       "            background-color:  #95c5df;\n",
       "            color:  #000000;\n",
       "        }    #T_76dd5eac_cf0d_11ea_800b_98460a9bb7d6row4_col2 {\n",
       "            background-color:  #71b1d7;\n",
       "            color:  #000000;\n",
       "        }    #T_76dd5eac_cf0d_11ea_800b_98460a9bb7d6row4_col3 {\n",
       "            background-color:  #ddeaf7;\n",
       "            color:  #000000;\n",
       "        }    #T_76dd5eac_cf0d_11ea_800b_98460a9bb7d6row4_col4 {\n",
       "            background-color:  #08306b;\n",
       "            color:  #f1f1f1;\n",
       "        }    #T_76dd5eac_cf0d_11ea_800b_98460a9bb7d6row4_col5 {\n",
       "            background-color:  #dce9f6;\n",
       "            color:  #000000;\n",
       "        }    #T_76dd5eac_cf0d_11ea_800b_98460a9bb7d6row4_col6 {\n",
       "            background-color:  #cee0f2;\n",
       "            color:  #000000;\n",
       "        }    #T_76dd5eac_cf0d_11ea_800b_98460a9bb7d6row4_col7 {\n",
       "            background-color:  #79b5d9;\n",
       "            color:  #000000;\n",
       "        }    #T_76dd5eac_cf0d_11ea_800b_98460a9bb7d6row4_col8 {\n",
       "            background-color:  #c7dbef;\n",
       "            color:  #000000;\n",
       "        }    #T_76dd5eac_cf0d_11ea_800b_98460a9bb7d6row4_col9 {\n",
       "            background-color:  #6aaed6;\n",
       "            color:  #000000;\n",
       "        }    #T_76dd5eac_cf0d_11ea_800b_98460a9bb7d6row4_col10 {\n",
       "            background-color:  #d3e3f3;\n",
       "            color:  #000000;\n",
       "        }    #T_76dd5eac_cf0d_11ea_800b_98460a9bb7d6row4_col11 {\n",
       "            background-color:  #d2e3f3;\n",
       "            color:  #000000;\n",
       "        }    #T_76dd5eac_cf0d_11ea_800b_98460a9bb7d6row5_col0 {\n",
       "            background-color:  #b2d2e8;\n",
       "            color:  #000000;\n",
       "        }    #T_76dd5eac_cf0d_11ea_800b_98460a9bb7d6row5_col1 {\n",
       "            background-color:  #a6cee4;\n",
       "            color:  #000000;\n",
       "        }    #T_76dd5eac_cf0d_11ea_800b_98460a9bb7d6row5_col2 {\n",
       "            background-color:  #b0d2e7;\n",
       "            color:  #000000;\n",
       "        }    #T_76dd5eac_cf0d_11ea_800b_98460a9bb7d6row5_col3 {\n",
       "            background-color:  #c6dbef;\n",
       "            color:  #000000;\n",
       "        }    #T_76dd5eac_cf0d_11ea_800b_98460a9bb7d6row5_col4 {\n",
       "            background-color:  #cde0f1;\n",
       "            color:  #000000;\n",
       "        }    #T_76dd5eac_cf0d_11ea_800b_98460a9bb7d6row5_col5 {\n",
       "            background-color:  #08306b;\n",
       "            color:  #f1f1f1;\n",
       "        }    #T_76dd5eac_cf0d_11ea_800b_98460a9bb7d6row5_col6 {\n",
       "            background-color:  #2777b8;\n",
       "            color:  #000000;\n",
       "        }    #T_76dd5eac_cf0d_11ea_800b_98460a9bb7d6row5_col7 {\n",
       "            background-color:  #b0d2e7;\n",
       "            color:  #000000;\n",
       "        }    #T_76dd5eac_cf0d_11ea_800b_98460a9bb7d6row5_col8 {\n",
       "            background-color:  #81badb;\n",
       "            color:  #000000;\n",
       "        }    #T_76dd5eac_cf0d_11ea_800b_98460a9bb7d6row5_col9 {\n",
       "            background-color:  #c7dbef;\n",
       "            color:  #000000;\n",
       "        }    #T_76dd5eac_cf0d_11ea_800b_98460a9bb7d6row5_col10 {\n",
       "            background-color:  #bad6eb;\n",
       "            color:  #000000;\n",
       "        }    #T_76dd5eac_cf0d_11ea_800b_98460a9bb7d6row5_col11 {\n",
       "            background-color:  #c7dcef;\n",
       "            color:  #000000;\n",
       "        }    #T_76dd5eac_cf0d_11ea_800b_98460a9bb7d6row6_col0 {\n",
       "            background-color:  #aacfe5;\n",
       "            color:  #000000;\n",
       "        }    #T_76dd5eac_cf0d_11ea_800b_98460a9bb7d6row6_col1 {\n",
       "            background-color:  #92c4de;\n",
       "            color:  #000000;\n",
       "        }    #T_76dd5eac_cf0d_11ea_800b_98460a9bb7d6row6_col2 {\n",
       "            background-color:  #9dcae1;\n",
       "            color:  #000000;\n",
       "        }    #T_76dd5eac_cf0d_11ea_800b_98460a9bb7d6row6_col3 {\n",
       "            background-color:  #c1d9ed;\n",
       "            color:  #000000;\n",
       "        }    #T_76dd5eac_cf0d_11ea_800b_98460a9bb7d6row6_col4 {\n",
       "            background-color:  #c7dbef;\n",
       "            color:  #000000;\n",
       "        }    #T_76dd5eac_cf0d_11ea_800b_98460a9bb7d6row6_col5 {\n",
       "            background-color:  #2b7bba;\n",
       "            color:  #000000;\n",
       "        }    #T_76dd5eac_cf0d_11ea_800b_98460a9bb7d6row6_col6 {\n",
       "            background-color:  #08306b;\n",
       "            color:  #f1f1f1;\n",
       "        }    #T_76dd5eac_cf0d_11ea_800b_98460a9bb7d6row6_col7 {\n",
       "            background-color:  #9cc9e1;\n",
       "            color:  #000000;\n",
       "        }    #T_76dd5eac_cf0d_11ea_800b_98460a9bb7d6row6_col8 {\n",
       "            background-color:  #a1cbe2;\n",
       "            color:  #000000;\n",
       "        }    #T_76dd5eac_cf0d_11ea_800b_98460a9bb7d6row6_col9 {\n",
       "            background-color:  #c8dcf0;\n",
       "            color:  #000000;\n",
       "        }    #T_76dd5eac_cf0d_11ea_800b_98460a9bb7d6row6_col10 {\n",
       "            background-color:  #d1e2f3;\n",
       "            color:  #000000;\n",
       "        }    #T_76dd5eac_cf0d_11ea_800b_98460a9bb7d6row6_col11 {\n",
       "            background-color:  #dae8f6;\n",
       "            color:  #000000;\n",
       "        }    #T_76dd5eac_cf0d_11ea_800b_98460a9bb7d6row7_col0 {\n",
       "            background-color:  #1663aa;\n",
       "            color:  #f1f1f1;\n",
       "        }    #T_76dd5eac_cf0d_11ea_800b_98460a9bb7d6row7_col1 {\n",
       "            background-color:  #a0cbe2;\n",
       "            color:  #000000;\n",
       "        }    #T_76dd5eac_cf0d_11ea_800b_98460a9bb7d6row7_col2 {\n",
       "            background-color:  #4d99ca;\n",
       "            color:  #000000;\n",
       "        }    #T_76dd5eac_cf0d_11ea_800b_98460a9bb7d6row7_col3 {\n",
       "            background-color:  #92c4de;\n",
       "            color:  #000000;\n",
       "        }    #T_76dd5eac_cf0d_11ea_800b_98460a9bb7d6row7_col4 {\n",
       "            background-color:  #a0cbe2;\n",
       "            color:  #000000;\n",
       "        }    #T_76dd5eac_cf0d_11ea_800b_98460a9bb7d6row7_col5 {\n",
       "            background-color:  #e0ecf8;\n",
       "            color:  #000000;\n",
       "        }    #T_76dd5eac_cf0d_11ea_800b_98460a9bb7d6row7_col6 {\n",
       "            background-color:  #cadef0;\n",
       "            color:  #000000;\n",
       "        }    #T_76dd5eac_cf0d_11ea_800b_98460a9bb7d6row7_col7 {\n",
       "            background-color:  #08306b;\n",
       "            color:  #f1f1f1;\n",
       "        }    #T_76dd5eac_cf0d_11ea_800b_98460a9bb7d6row7_col8 {\n",
       "            background-color:  #d0e1f2;\n",
       "            color:  #000000;\n",
       "        }    #T_76dd5eac_cf0d_11ea_800b_98460a9bb7d6row7_col9 {\n",
       "            background-color:  #aed1e7;\n",
       "            color:  #000000;\n",
       "        }    #T_76dd5eac_cf0d_11ea_800b_98460a9bb7d6row7_col10 {\n",
       "            background-color:  #f7fbff;\n",
       "            color:  #000000;\n",
       "        }    #T_76dd5eac_cf0d_11ea_800b_98460a9bb7d6row7_col11 {\n",
       "            background-color:  #d9e7f5;\n",
       "            color:  #000000;\n",
       "        }    #T_76dd5eac_cf0d_11ea_800b_98460a9bb7d6row8_col0 {\n",
       "            background-color:  #f7fbff;\n",
       "            color:  #000000;\n",
       "        }    #T_76dd5eac_cf0d_11ea_800b_98460a9bb7d6row8_col1 {\n",
       "            background-color:  #69add5;\n",
       "            color:  #000000;\n",
       "        }    #T_76dd5eac_cf0d_11ea_800b_98460a9bb7d6row8_col2 {\n",
       "            background-color:  #f6faff;\n",
       "            color:  #000000;\n",
       "        }    #T_76dd5eac_cf0d_11ea_800b_98460a9bb7d6row8_col3 {\n",
       "            background-color:  #f7fbff;\n",
       "            color:  #000000;\n",
       "        }    #T_76dd5eac_cf0d_11ea_800b_98460a9bb7d6row8_col4 {\n",
       "            background-color:  #f7fbff;\n",
       "            color:  #000000;\n",
       "        }    #T_76dd5eac_cf0d_11ea_800b_98460a9bb7d6row8_col5 {\n",
       "            background-color:  #d1e2f3;\n",
       "            color:  #000000;\n",
       "        }    #T_76dd5eac_cf0d_11ea_800b_98460a9bb7d6row8_col6 {\n",
       "            background-color:  #e0ecf8;\n",
       "            color:  #000000;\n",
       "        }    #T_76dd5eac_cf0d_11ea_800b_98460a9bb7d6row8_col7 {\n",
       "            background-color:  #e3eef8;\n",
       "            color:  #000000;\n",
       "        }    #T_76dd5eac_cf0d_11ea_800b_98460a9bb7d6row8_col8 {\n",
       "            background-color:  #08306b;\n",
       "            color:  #f1f1f1;\n",
       "        }    #T_76dd5eac_cf0d_11ea_800b_98460a9bb7d6row8_col9 {\n",
       "            background-color:  #edf4fc;\n",
       "            color:  #000000;\n",
       "        }    #T_76dd5eac_cf0d_11ea_800b_98460a9bb7d6row8_col10 {\n",
       "            background-color:  #77b5d9;\n",
       "            color:  #000000;\n",
       "        }    #T_76dd5eac_cf0d_11ea_800b_98460a9bb7d6row8_col11 {\n",
       "            background-color:  #c8dcf0;\n",
       "            color:  #000000;\n",
       "        }    #T_76dd5eac_cf0d_11ea_800b_98460a9bb7d6row9_col0 {\n",
       "            background-color:  #66abd4;\n",
       "            color:  #000000;\n",
       "        }    #T_76dd5eac_cf0d_11ea_800b_98460a9bb7d6row9_col1 {\n",
       "            background-color:  #d2e3f3;\n",
       "            color:  #000000;\n",
       "        }    #T_76dd5eac_cf0d_11ea_800b_98460a9bb7d6row9_col2 {\n",
       "            background-color:  #58a1cf;\n",
       "            color:  #000000;\n",
       "        }    #T_76dd5eac_cf0d_11ea_800b_98460a9bb7d6row9_col3 {\n",
       "            background-color:  #e7f0fa;\n",
       "            color:  #000000;\n",
       "        }    #T_76dd5eac_cf0d_11ea_800b_98460a9bb7d6row9_col4 {\n",
       "            background-color:  #6aaed6;\n",
       "            color:  #000000;\n",
       "        }    #T_76dd5eac_cf0d_11ea_800b_98460a9bb7d6row9_col5 {\n",
       "            background-color:  #d4e4f4;\n",
       "            color:  #000000;\n",
       "        }    #T_76dd5eac_cf0d_11ea_800b_98460a9bb7d6row9_col6 {\n",
       "            background-color:  #cfe1f2;\n",
       "            color:  #000000;\n",
       "        }    #T_76dd5eac_cf0d_11ea_800b_98460a9bb7d6row9_col7 {\n",
       "            background-color:  #87bddc;\n",
       "            color:  #000000;\n",
       "        }    #T_76dd5eac_cf0d_11ea_800b_98460a9bb7d6row9_col8 {\n",
       "            background-color:  #bad6eb;\n",
       "            color:  #000000;\n",
       "        }    #T_76dd5eac_cf0d_11ea_800b_98460a9bb7d6row9_col9 {\n",
       "            background-color:  #08306b;\n",
       "            color:  #f1f1f1;\n",
       "        }    #T_76dd5eac_cf0d_11ea_800b_98460a9bb7d6row9_col10 {\n",
       "            background-color:  #97c6df;\n",
       "            color:  #000000;\n",
       "        }    #T_76dd5eac_cf0d_11ea_800b_98460a9bb7d6row9_col11 {\n",
       "            background-color:  #7ab6d9;\n",
       "            color:  #000000;\n",
       "        }    #T_76dd5eac_cf0d_11ea_800b_98460a9bb7d6row10_col0 {\n",
       "            background-color:  #a0cbe2;\n",
       "            color:  #000000;\n",
       "        }    #T_76dd5eac_cf0d_11ea_800b_98460a9bb7d6row10_col1 {\n",
       "            background-color:  #cbdef1;\n",
       "            color:  #000000;\n",
       "        }    #T_76dd5eac_cf0d_11ea_800b_98460a9bb7d6row10_col2 {\n",
       "            background-color:  #89bedc;\n",
       "            color:  #000000;\n",
       "        }    #T_76dd5eac_cf0d_11ea_800b_98460a9bb7d6row10_col3 {\n",
       "            background-color:  #dfecf7;\n",
       "            color:  #000000;\n",
       "        }    #T_76dd5eac_cf0d_11ea_800b_98460a9bb7d6row10_col4 {\n",
       "            background-color:  #f1f7fd;\n",
       "            color:  #000000;\n",
       "        }    #T_76dd5eac_cf0d_11ea_800b_98460a9bb7d6row10_col5 {\n",
       "            background-color:  #e9f2fa;\n",
       "            color:  #000000;\n",
       "        }    #T_76dd5eac_cf0d_11ea_800b_98460a9bb7d6row10_col6 {\n",
       "            background-color:  #f7fbff;\n",
       "            color:  #000000;\n",
       "        }    #T_76dd5eac_cf0d_11ea_800b_98460a9bb7d6row10_col7 {\n",
       "            background-color:  #f7fbff;\n",
       "            color:  #000000;\n",
       "        }    #T_76dd5eac_cf0d_11ea_800b_98460a9bb7d6row10_col8 {\n",
       "            background-color:  #61a7d2;\n",
       "            color:  #000000;\n",
       "        }    #T_76dd5eac_cf0d_11ea_800b_98460a9bb7d6row10_col9 {\n",
       "            background-color:  #bdd7ec;\n",
       "            color:  #000000;\n",
       "        }    #T_76dd5eac_cf0d_11ea_800b_98460a9bb7d6row10_col10 {\n",
       "            background-color:  #08306b;\n",
       "            color:  #f1f1f1;\n",
       "        }    #T_76dd5eac_cf0d_11ea_800b_98460a9bb7d6row10_col11 {\n",
       "            background-color:  #4292c6;\n",
       "            color:  #000000;\n",
       "        }    #T_76dd5eac_cf0d_11ea_800b_98460a9bb7d6row11_col0 {\n",
       "            background-color:  #74b3d8;\n",
       "            color:  #000000;\n",
       "        }    #T_76dd5eac_cf0d_11ea_800b_98460a9bb7d6row11_col1 {\n",
       "            background-color:  #e3eef8;\n",
       "            color:  #000000;\n",
       "        }    #T_76dd5eac_cf0d_11ea_800b_98460a9bb7d6row11_col2 {\n",
       "            background-color:  #6aaed6;\n",
       "            color:  #000000;\n",
       "        }    #T_76dd5eac_cf0d_11ea_800b_98460a9bb7d6row11_col3 {\n",
       "            background-color:  #e5eff9;\n",
       "            color:  #000000;\n",
       "        }    #T_76dd5eac_cf0d_11ea_800b_98460a9bb7d6row11_col4 {\n",
       "            background-color:  #e2edf8;\n",
       "            color:  #000000;\n",
       "        }    #T_76dd5eac_cf0d_11ea_800b_98460a9bb7d6row11_col5 {\n",
       "            background-color:  #e6f0f9;\n",
       "            color:  #000000;\n",
       "        }    #T_76dd5eac_cf0d_11ea_800b_98460a9bb7d6row11_col6 {\n",
       "            background-color:  #f4f9fe;\n",
       "            color:  #000000;\n",
       "        }    #T_76dd5eac_cf0d_11ea_800b_98460a9bb7d6row11_col7 {\n",
       "            background-color:  #cde0f1;\n",
       "            color:  #000000;\n",
       "        }    #T_76dd5eac_cf0d_11ea_800b_98460a9bb7d6row11_col8 {\n",
       "            background-color:  #9fcae1;\n",
       "            color:  #000000;\n",
       "        }    #T_76dd5eac_cf0d_11ea_800b_98460a9bb7d6row11_col9 {\n",
       "            background-color:  #91c3de;\n",
       "            color:  #000000;\n",
       "        }    #T_76dd5eac_cf0d_11ea_800b_98460a9bb7d6row11_col10 {\n",
       "            background-color:  #3b8bc2;\n",
       "            color:  #000000;\n",
       "        }    #T_76dd5eac_cf0d_11ea_800b_98460a9bb7d6row11_col11 {\n",
       "            background-color:  #08306b;\n",
       "            color:  #f1f1f1;\n",
       "        }</style><table id=\"T_76dd5eac_cf0d_11ea_800b_98460a9bb7d6\" ><thead>    <tr>        <th class=\"blank level0\" ></th>        <th class=\"col_heading level0 col0\" >fixed acidity</th>        <th class=\"col_heading level0 col1\" >volatile acidity</th>        <th class=\"col_heading level0 col2\" >citric acid</th>        <th class=\"col_heading level0 col3\" >residual sugar</th>        <th class=\"col_heading level0 col4\" >chlorides</th>        <th class=\"col_heading level0 col5\" >free sulfur dioxide</th>        <th class=\"col_heading level0 col6\" >total sulfur dioxide</th>        <th class=\"col_heading level0 col7\" >density</th>        <th class=\"col_heading level0 col8\" >pH</th>        <th class=\"col_heading level0 col9\" >sulphates</th>        <th class=\"col_heading level0 col10\" >alcohol</th>        <th class=\"col_heading level0 col11\" >quality</th>    </tr></thead><tbody>\n",
       "                <tr>\n",
       "                        <th id=\"T_76dd5eac_cf0d_11ea_800b_98460a9bb7d6level0_row0\" class=\"row_heading level0 row0\" >fixed acidity</th>\n",
       "                        <td id=\"T_76dd5eac_cf0d_11ea_800b_98460a9bb7d6row0_col0\" class=\"data row0 col0\" >1</td>\n",
       "                        <td id=\"T_76dd5eac_cf0d_11ea_800b_98460a9bb7d6row0_col1\" class=\"data row0 col1\" >-0.256131</td>\n",
       "                        <td id=\"T_76dd5eac_cf0d_11ea_800b_98460a9bb7d6row0_col2\" class=\"data row0 col2\" >0.671703</td>\n",
       "                        <td id=\"T_76dd5eac_cf0d_11ea_800b_98460a9bb7d6row0_col3\" class=\"data row0 col3\" >0.114777</td>\n",
       "                        <td id=\"T_76dd5eac_cf0d_11ea_800b_98460a9bb7d6row0_col4\" class=\"data row0 col4\" >0.0937052</td>\n",
       "                        <td id=\"T_76dd5eac_cf0d_11ea_800b_98460a9bb7d6row0_col5\" class=\"data row0 col5\" >-0.153794</td>\n",
       "                        <td id=\"T_76dd5eac_cf0d_11ea_800b_98460a9bb7d6row0_col6\" class=\"data row0 col6\" >-0.113181</td>\n",
       "                        <td id=\"T_76dd5eac_cf0d_11ea_800b_98460a9bb7d6row0_col7\" class=\"data row0 col7\" >0.668047</td>\n",
       "                        <td id=\"T_76dd5eac_cf0d_11ea_800b_98460a9bb7d6row0_col8\" class=\"data row0 col8\" >-0.682978</td>\n",
       "                        <td id=\"T_76dd5eac_cf0d_11ea_800b_98460a9bb7d6row0_col9\" class=\"data row0 col9\" >0.183006</td>\n",
       "                        <td id=\"T_76dd5eac_cf0d_11ea_800b_98460a9bb7d6row0_col10\" class=\"data row0 col10\" >-0.0616683</td>\n",
       "                        <td id=\"T_76dd5eac_cf0d_11ea_800b_98460a9bb7d6row0_col11\" class=\"data row0 col11\" >0.124052</td>\n",
       "            </tr>\n",
       "            <tr>\n",
       "                        <th id=\"T_76dd5eac_cf0d_11ea_800b_98460a9bb7d6level0_row1\" class=\"row_heading level0 row1\" >volatile acidity</th>\n",
       "                        <td id=\"T_76dd5eac_cf0d_11ea_800b_98460a9bb7d6row1_col0\" class=\"data row1 col0\" >-0.256131</td>\n",
       "                        <td id=\"T_76dd5eac_cf0d_11ea_800b_98460a9bb7d6row1_col1\" class=\"data row1 col1\" >1</td>\n",
       "                        <td id=\"T_76dd5eac_cf0d_11ea_800b_98460a9bb7d6row1_col2\" class=\"data row1 col2\" >-0.552496</td>\n",
       "                        <td id=\"T_76dd5eac_cf0d_11ea_800b_98460a9bb7d6row1_col3\" class=\"data row1 col3\" >0.00191788</td>\n",
       "                        <td id=\"T_76dd5eac_cf0d_11ea_800b_98460a9bb7d6row1_col4\" class=\"data row1 col4\" >0.0612978</td>\n",
       "                        <td id=\"T_76dd5eac_cf0d_11ea_800b_98460a9bb7d6row1_col5\" class=\"data row1 col5\" >-0.0105038</td>\n",
       "                        <td id=\"T_76dd5eac_cf0d_11ea_800b_98460a9bb7d6row1_col6\" class=\"data row1 col6\" >0.07647</td>\n",
       "                        <td id=\"T_76dd5eac_cf0d_11ea_800b_98460a9bb7d6row1_col7\" class=\"data row1 col7\" >0.0220263</td>\n",
       "                        <td id=\"T_76dd5eac_cf0d_11ea_800b_98460a9bb7d6row1_col8\" class=\"data row1 col8\" >0.234937</td>\n",
       "                        <td id=\"T_76dd5eac_cf0d_11ea_800b_98460a9bb7d6row1_col9\" class=\"data row1 col9\" >-0.260987</td>\n",
       "                        <td id=\"T_76dd5eac_cf0d_11ea_800b_98460a9bb7d6row1_col10\" class=\"data row1 col10\" >-0.202288</td>\n",
       "                        <td id=\"T_76dd5eac_cf0d_11ea_800b_98460a9bb7d6row1_col11\" class=\"data row1 col11\" >-0.390558</td>\n",
       "            </tr>\n",
       "            <tr>\n",
       "                        <th id=\"T_76dd5eac_cf0d_11ea_800b_98460a9bb7d6level0_row2\" class=\"row_heading level0 row2\" >citric acid</th>\n",
       "                        <td id=\"T_76dd5eac_cf0d_11ea_800b_98460a9bb7d6row2_col0\" class=\"data row2 col0\" >0.671703</td>\n",
       "                        <td id=\"T_76dd5eac_cf0d_11ea_800b_98460a9bb7d6row2_col1\" class=\"data row2 col1\" >-0.552496</td>\n",
       "                        <td id=\"T_76dd5eac_cf0d_11ea_800b_98460a9bb7d6row2_col2\" class=\"data row2 col2\" >1</td>\n",
       "                        <td id=\"T_76dd5eac_cf0d_11ea_800b_98460a9bb7d6row2_col3\" class=\"data row2 col3\" >0.143577</td>\n",
       "                        <td id=\"T_76dd5eac_cf0d_11ea_800b_98460a9bb7d6row2_col4\" class=\"data row2 col4\" >0.203823</td>\n",
       "                        <td id=\"T_76dd5eac_cf0d_11ea_800b_98460a9bb7d6row2_col5\" class=\"data row2 col5\" >-0.0609781</td>\n",
       "                        <td id=\"T_76dd5eac_cf0d_11ea_800b_98460a9bb7d6row2_col6\" class=\"data row2 col6\" >0.035533</td>\n",
       "                        <td id=\"T_76dd5eac_cf0d_11ea_800b_98460a9bb7d6row2_col7\" class=\"data row2 col7\" >0.364947</td>\n",
       "                        <td id=\"T_76dd5eac_cf0d_11ea_800b_98460a9bb7d6row2_col8\" class=\"data row2 col8\" >-0.541904</td>\n",
       "                        <td id=\"T_76dd5eac_cf0d_11ea_800b_98460a9bb7d6row2_col9\" class=\"data row2 col9\" >0.31277</td>\n",
       "                        <td id=\"T_76dd5eac_cf0d_11ea_800b_98460a9bb7d6row2_col10\" class=\"data row2 col10\" >0.109903</td>\n",
       "                        <td id=\"T_76dd5eac_cf0d_11ea_800b_98460a9bb7d6row2_col11\" class=\"data row2 col11\" >0.226373</td>\n",
       "            </tr>\n",
       "            <tr>\n",
       "                        <th id=\"T_76dd5eac_cf0d_11ea_800b_98460a9bb7d6level0_row3\" class=\"row_heading level0 row3\" >residual sugar</th>\n",
       "                        <td id=\"T_76dd5eac_cf0d_11ea_800b_98460a9bb7d6row3_col0\" class=\"data row3 col0\" >0.114777</td>\n",
       "                        <td id=\"T_76dd5eac_cf0d_11ea_800b_98460a9bb7d6row3_col1\" class=\"data row3 col1\" >0.00191788</td>\n",
       "                        <td id=\"T_76dd5eac_cf0d_11ea_800b_98460a9bb7d6row3_col2\" class=\"data row3 col2\" >0.143577</td>\n",
       "                        <td id=\"T_76dd5eac_cf0d_11ea_800b_98460a9bb7d6row3_col3\" class=\"data row3 col3\" >1</td>\n",
       "                        <td id=\"T_76dd5eac_cf0d_11ea_800b_98460a9bb7d6row3_col4\" class=\"data row3 col4\" >0.0556095</td>\n",
       "                        <td id=\"T_76dd5eac_cf0d_11ea_800b_98460a9bb7d6row3_col5\" class=\"data row3 col5\" >0.187049</td>\n",
       "                        <td id=\"T_76dd5eac_cf0d_11ea_800b_98460a9bb7d6row3_col6\" class=\"data row3 col6\" >0.203028</td>\n",
       "                        <td id=\"T_76dd5eac_cf0d_11ea_800b_98460a9bb7d6row3_col7\" class=\"data row3 col7\" >0.355283</td>\n",
       "                        <td id=\"T_76dd5eac_cf0d_11ea_800b_98460a9bb7d6row3_col8\" class=\"data row3 col8\" >-0.0856524</td>\n",
       "                        <td id=\"T_76dd5eac_cf0d_11ea_800b_98460a9bb7d6row3_col9\" class=\"data row3 col9\" >0.00552712</td>\n",
       "                        <td id=\"T_76dd5eac_cf0d_11ea_800b_98460a9bb7d6row3_col10\" class=\"data row3 col10\" >0.0420754</td>\n",
       "                        <td id=\"T_76dd5eac_cf0d_11ea_800b_98460a9bb7d6row3_col11\" class=\"data row3 col11\" >0.0137316</td>\n",
       "            </tr>\n",
       "            <tr>\n",
       "                        <th id=\"T_76dd5eac_cf0d_11ea_800b_98460a9bb7d6level0_row4\" class=\"row_heading level0 row4\" >chlorides</th>\n",
       "                        <td id=\"T_76dd5eac_cf0d_11ea_800b_98460a9bb7d6row4_col0\" class=\"data row4 col0\" >0.0937052</td>\n",
       "                        <td id=\"T_76dd5eac_cf0d_11ea_800b_98460a9bb7d6row4_col1\" class=\"data row4 col1\" >0.0612978</td>\n",
       "                        <td id=\"T_76dd5eac_cf0d_11ea_800b_98460a9bb7d6row4_col2\" class=\"data row4 col2\" >0.203823</td>\n",
       "                        <td id=\"T_76dd5eac_cf0d_11ea_800b_98460a9bb7d6row4_col3\" class=\"data row4 col3\" >0.0556095</td>\n",
       "                        <td id=\"T_76dd5eac_cf0d_11ea_800b_98460a9bb7d6row4_col4\" class=\"data row4 col4\" >1</td>\n",
       "                        <td id=\"T_76dd5eac_cf0d_11ea_800b_98460a9bb7d6row4_col5\" class=\"data row4 col5\" >0.00556215</td>\n",
       "                        <td id=\"T_76dd5eac_cf0d_11ea_800b_98460a9bb7d6row4_col6\" class=\"data row4 col6\" >0.0474005</td>\n",
       "                        <td id=\"T_76dd5eac_cf0d_11ea_800b_98460a9bb7d6row4_col7\" class=\"data row4 col7\" >0.200632</td>\n",
       "                        <td id=\"T_76dd5eac_cf0d_11ea_800b_98460a9bb7d6row4_col8\" class=\"data row4 col8\" >-0.265026</td>\n",
       "                        <td id=\"T_76dd5eac_cf0d_11ea_800b_98460a9bb7d6row4_col9\" class=\"data row4 col9\" >0.37126</td>\n",
       "                        <td id=\"T_76dd5eac_cf0d_11ea_800b_98460a9bb7d6row4_col10\" class=\"data row4 col10\" >-0.221141</td>\n",
       "                        <td id=\"T_76dd5eac_cf0d_11ea_800b_98460a9bb7d6row4_col11\" class=\"data row4 col11\" >-0.128907</td>\n",
       "            </tr>\n",
       "            <tr>\n",
       "                        <th id=\"T_76dd5eac_cf0d_11ea_800b_98460a9bb7d6level0_row5\" class=\"row_heading level0 row5\" >free sulfur dioxide</th>\n",
       "                        <td id=\"T_76dd5eac_cf0d_11ea_800b_98460a9bb7d6row5_col0\" class=\"data row5 col0\" >-0.153794</td>\n",
       "                        <td id=\"T_76dd5eac_cf0d_11ea_800b_98460a9bb7d6row5_col1\" class=\"data row5 col1\" >-0.0105038</td>\n",
       "                        <td id=\"T_76dd5eac_cf0d_11ea_800b_98460a9bb7d6row5_col2\" class=\"data row5 col2\" >-0.0609781</td>\n",
       "                        <td id=\"T_76dd5eac_cf0d_11ea_800b_98460a9bb7d6row5_col3\" class=\"data row5 col3\" >0.187049</td>\n",
       "                        <td id=\"T_76dd5eac_cf0d_11ea_800b_98460a9bb7d6row5_col4\" class=\"data row5 col4\" >0.00556215</td>\n",
       "                        <td id=\"T_76dd5eac_cf0d_11ea_800b_98460a9bb7d6row5_col5\" class=\"data row5 col5\" >1</td>\n",
       "                        <td id=\"T_76dd5eac_cf0d_11ea_800b_98460a9bb7d6row5_col6\" class=\"data row5 col6\" >0.667666</td>\n",
       "                        <td id=\"T_76dd5eac_cf0d_11ea_800b_98460a9bb7d6row5_col7\" class=\"data row5 col7\" >-0.0219458</td>\n",
       "                        <td id=\"T_76dd5eac_cf0d_11ea_800b_98460a9bb7d6row5_col8\" class=\"data row5 col8\" >0.0703775</td>\n",
       "                        <td id=\"T_76dd5eac_cf0d_11ea_800b_98460a9bb7d6row5_col9\" class=\"data row5 col9\" >0.0516576</td>\n",
       "                        <td id=\"T_76dd5eac_cf0d_11ea_800b_98460a9bb7d6row5_col10\" class=\"data row5 col10\" >-0.0694084</td>\n",
       "                        <td id=\"T_76dd5eac_cf0d_11ea_800b_98460a9bb7d6row5_col11\" class=\"data row5 col11\" >-0.0506561</td>\n",
       "            </tr>\n",
       "            <tr>\n",
       "                        <th id=\"T_76dd5eac_cf0d_11ea_800b_98460a9bb7d6level0_row6\" class=\"row_heading level0 row6\" >total sulfur dioxide</th>\n",
       "                        <td id=\"T_76dd5eac_cf0d_11ea_800b_98460a9bb7d6row6_col0\" class=\"data row6 col0\" >-0.113181</td>\n",
       "                        <td id=\"T_76dd5eac_cf0d_11ea_800b_98460a9bb7d6row6_col1\" class=\"data row6 col1\" >0.07647</td>\n",
       "                        <td id=\"T_76dd5eac_cf0d_11ea_800b_98460a9bb7d6row6_col2\" class=\"data row6 col2\" >0.035533</td>\n",
       "                        <td id=\"T_76dd5eac_cf0d_11ea_800b_98460a9bb7d6row6_col3\" class=\"data row6 col3\" >0.203028</td>\n",
       "                        <td id=\"T_76dd5eac_cf0d_11ea_800b_98460a9bb7d6row6_col4\" class=\"data row6 col4\" >0.0474005</td>\n",
       "                        <td id=\"T_76dd5eac_cf0d_11ea_800b_98460a9bb7d6row6_col5\" class=\"data row6 col5\" >0.667666</td>\n",
       "                        <td id=\"T_76dd5eac_cf0d_11ea_800b_98460a9bb7d6row6_col6\" class=\"data row6 col6\" >1</td>\n",
       "                        <td id=\"T_76dd5eac_cf0d_11ea_800b_98460a9bb7d6row6_col7\" class=\"data row6 col7\" >0.0712699</td>\n",
       "                        <td id=\"T_76dd5eac_cf0d_11ea_800b_98460a9bb7d6row6_col8\" class=\"data row6 col8\" >-0.0664946</td>\n",
       "                        <td id=\"T_76dd5eac_cf0d_11ea_800b_98460a9bb7d6row6_col9\" class=\"data row6 col9\" >0.0429468</td>\n",
       "                        <td id=\"T_76dd5eac_cf0d_11ea_800b_98460a9bb7d6row6_col10\" class=\"data row6 col10\" >-0.205654</td>\n",
       "                        <td id=\"T_76dd5eac_cf0d_11ea_800b_98460a9bb7d6row6_col11\" class=\"data row6 col11\" >-0.1851</td>\n",
       "            </tr>\n",
       "            <tr>\n",
       "                        <th id=\"T_76dd5eac_cf0d_11ea_800b_98460a9bb7d6level0_row7\" class=\"row_heading level0 row7\" >density</th>\n",
       "                        <td id=\"T_76dd5eac_cf0d_11ea_800b_98460a9bb7d6row7_col0\" class=\"data row7 col0\" >0.668047</td>\n",
       "                        <td id=\"T_76dd5eac_cf0d_11ea_800b_98460a9bb7d6row7_col1\" class=\"data row7 col1\" >0.0220263</td>\n",
       "                        <td id=\"T_76dd5eac_cf0d_11ea_800b_98460a9bb7d6row7_col2\" class=\"data row7 col2\" >0.364947</td>\n",
       "                        <td id=\"T_76dd5eac_cf0d_11ea_800b_98460a9bb7d6row7_col3\" class=\"data row7 col3\" >0.355283</td>\n",
       "                        <td id=\"T_76dd5eac_cf0d_11ea_800b_98460a9bb7d6row7_col4\" class=\"data row7 col4\" >0.200632</td>\n",
       "                        <td id=\"T_76dd5eac_cf0d_11ea_800b_98460a9bb7d6row7_col5\" class=\"data row7 col5\" >-0.0219458</td>\n",
       "                        <td id=\"T_76dd5eac_cf0d_11ea_800b_98460a9bb7d6row7_col6\" class=\"data row7 col6\" >0.0712699</td>\n",
       "                        <td id=\"T_76dd5eac_cf0d_11ea_800b_98460a9bb7d6row7_col7\" class=\"data row7 col7\" >1</td>\n",
       "                        <td id=\"T_76dd5eac_cf0d_11ea_800b_98460a9bb7d6row7_col8\" class=\"data row7 col8\" >-0.341699</td>\n",
       "                        <td id=\"T_76dd5eac_cf0d_11ea_800b_98460a9bb7d6row7_col9\" class=\"data row7 col9\" >0.148507</td>\n",
       "                        <td id=\"T_76dd5eac_cf0d_11ea_800b_98460a9bb7d6row7_col10\" class=\"data row7 col10\" >-0.49618</td>\n",
       "                        <td id=\"T_76dd5eac_cf0d_11ea_800b_98460a9bb7d6row7_col11\" class=\"data row7 col11\" >-0.174919</td>\n",
       "            </tr>\n",
       "            <tr>\n",
       "                        <th id=\"T_76dd5eac_cf0d_11ea_800b_98460a9bb7d6level0_row8\" class=\"row_heading level0 row8\" >pH</th>\n",
       "                        <td id=\"T_76dd5eac_cf0d_11ea_800b_98460a9bb7d6row8_col0\" class=\"data row8 col0\" >-0.682978</td>\n",
       "                        <td id=\"T_76dd5eac_cf0d_11ea_800b_98460a9bb7d6row8_col1\" class=\"data row8 col1\" >0.234937</td>\n",
       "                        <td id=\"T_76dd5eac_cf0d_11ea_800b_98460a9bb7d6row8_col2\" class=\"data row8 col2\" >-0.541904</td>\n",
       "                        <td id=\"T_76dd5eac_cf0d_11ea_800b_98460a9bb7d6row8_col3\" class=\"data row8 col3\" >-0.0856524</td>\n",
       "                        <td id=\"T_76dd5eac_cf0d_11ea_800b_98460a9bb7d6row8_col4\" class=\"data row8 col4\" >-0.265026</td>\n",
       "                        <td id=\"T_76dd5eac_cf0d_11ea_800b_98460a9bb7d6row8_col5\" class=\"data row8 col5\" >0.0703775</td>\n",
       "                        <td id=\"T_76dd5eac_cf0d_11ea_800b_98460a9bb7d6row8_col6\" class=\"data row8 col6\" >-0.0664946</td>\n",
       "                        <td id=\"T_76dd5eac_cf0d_11ea_800b_98460a9bb7d6row8_col7\" class=\"data row8 col7\" >-0.341699</td>\n",
       "                        <td id=\"T_76dd5eac_cf0d_11ea_800b_98460a9bb7d6row8_col8\" class=\"data row8 col8\" >1</td>\n",
       "                        <td id=\"T_76dd5eac_cf0d_11ea_800b_98460a9bb7d6row8_col9\" class=\"data row8 col9\" >-0.196648</td>\n",
       "                        <td id=\"T_76dd5eac_cf0d_11ea_800b_98460a9bb7d6row8_col10\" class=\"data row8 col10\" >0.205633</td>\n",
       "                        <td id=\"T_76dd5eac_cf0d_11ea_800b_98460a9bb7d6row8_col11\" class=\"data row8 col11\" >-0.0577314</td>\n",
       "            </tr>\n",
       "            <tr>\n",
       "                        <th id=\"T_76dd5eac_cf0d_11ea_800b_98460a9bb7d6level0_row9\" class=\"row_heading level0 row9\" >sulphates</th>\n",
       "                        <td id=\"T_76dd5eac_cf0d_11ea_800b_98460a9bb7d6row9_col0\" class=\"data row9 col0\" >0.183006</td>\n",
       "                        <td id=\"T_76dd5eac_cf0d_11ea_800b_98460a9bb7d6row9_col1\" class=\"data row9 col1\" >-0.260987</td>\n",
       "                        <td id=\"T_76dd5eac_cf0d_11ea_800b_98460a9bb7d6row9_col2\" class=\"data row9 col2\" >0.31277</td>\n",
       "                        <td id=\"T_76dd5eac_cf0d_11ea_800b_98460a9bb7d6row9_col3\" class=\"data row9 col3\" >0.00552712</td>\n",
       "                        <td id=\"T_76dd5eac_cf0d_11ea_800b_98460a9bb7d6row9_col4\" class=\"data row9 col4\" >0.37126</td>\n",
       "                        <td id=\"T_76dd5eac_cf0d_11ea_800b_98460a9bb7d6row9_col5\" class=\"data row9 col5\" >0.0516576</td>\n",
       "                        <td id=\"T_76dd5eac_cf0d_11ea_800b_98460a9bb7d6row9_col6\" class=\"data row9 col6\" >0.0429468</td>\n",
       "                        <td id=\"T_76dd5eac_cf0d_11ea_800b_98460a9bb7d6row9_col7\" class=\"data row9 col7\" >0.148507</td>\n",
       "                        <td id=\"T_76dd5eac_cf0d_11ea_800b_98460a9bb7d6row9_col8\" class=\"data row9 col8\" >-0.196648</td>\n",
       "                        <td id=\"T_76dd5eac_cf0d_11ea_800b_98460a9bb7d6row9_col9\" class=\"data row9 col9\" >1</td>\n",
       "                        <td id=\"T_76dd5eac_cf0d_11ea_800b_98460a9bb7d6row9_col10\" class=\"data row9 col10\" >0.0935948</td>\n",
       "                        <td id=\"T_76dd5eac_cf0d_11ea_800b_98460a9bb7d6row9_col11\" class=\"data row9 col11\" >0.251397</td>\n",
       "            </tr>\n",
       "            <tr>\n",
       "                        <th id=\"T_76dd5eac_cf0d_11ea_800b_98460a9bb7d6level0_row10\" class=\"row_heading level0 row10\" >alcohol</th>\n",
       "                        <td id=\"T_76dd5eac_cf0d_11ea_800b_98460a9bb7d6row10_col0\" class=\"data row10 col0\" >-0.0616683</td>\n",
       "                        <td id=\"T_76dd5eac_cf0d_11ea_800b_98460a9bb7d6row10_col1\" class=\"data row10 col1\" >-0.202288</td>\n",
       "                        <td id=\"T_76dd5eac_cf0d_11ea_800b_98460a9bb7d6row10_col2\" class=\"data row10 col2\" >0.109903</td>\n",
       "                        <td id=\"T_76dd5eac_cf0d_11ea_800b_98460a9bb7d6row10_col3\" class=\"data row10 col3\" >0.0420754</td>\n",
       "                        <td id=\"T_76dd5eac_cf0d_11ea_800b_98460a9bb7d6row10_col4\" class=\"data row10 col4\" >-0.221141</td>\n",
       "                        <td id=\"T_76dd5eac_cf0d_11ea_800b_98460a9bb7d6row10_col5\" class=\"data row10 col5\" >-0.0694084</td>\n",
       "                        <td id=\"T_76dd5eac_cf0d_11ea_800b_98460a9bb7d6row10_col6\" class=\"data row10 col6\" >-0.205654</td>\n",
       "                        <td id=\"T_76dd5eac_cf0d_11ea_800b_98460a9bb7d6row10_col7\" class=\"data row10 col7\" >-0.49618</td>\n",
       "                        <td id=\"T_76dd5eac_cf0d_11ea_800b_98460a9bb7d6row10_col8\" class=\"data row10 col8\" >0.205633</td>\n",
       "                        <td id=\"T_76dd5eac_cf0d_11ea_800b_98460a9bb7d6row10_col9\" class=\"data row10 col9\" >0.0935948</td>\n",
       "                        <td id=\"T_76dd5eac_cf0d_11ea_800b_98460a9bb7d6row10_col10\" class=\"data row10 col10\" >1</td>\n",
       "                        <td id=\"T_76dd5eac_cf0d_11ea_800b_98460a9bb7d6row10_col11\" class=\"data row10 col11\" >0.476166</td>\n",
       "            </tr>\n",
       "            <tr>\n",
       "                        <th id=\"T_76dd5eac_cf0d_11ea_800b_98460a9bb7d6level0_row11\" class=\"row_heading level0 row11\" >quality</th>\n",
       "                        <td id=\"T_76dd5eac_cf0d_11ea_800b_98460a9bb7d6row11_col0\" class=\"data row11 col0\" >0.124052</td>\n",
       "                        <td id=\"T_76dd5eac_cf0d_11ea_800b_98460a9bb7d6row11_col1\" class=\"data row11 col1\" >-0.390558</td>\n",
       "                        <td id=\"T_76dd5eac_cf0d_11ea_800b_98460a9bb7d6row11_col2\" class=\"data row11 col2\" >0.226373</td>\n",
       "                        <td id=\"T_76dd5eac_cf0d_11ea_800b_98460a9bb7d6row11_col3\" class=\"data row11 col3\" >0.0137316</td>\n",
       "                        <td id=\"T_76dd5eac_cf0d_11ea_800b_98460a9bb7d6row11_col4\" class=\"data row11 col4\" >-0.128907</td>\n",
       "                        <td id=\"T_76dd5eac_cf0d_11ea_800b_98460a9bb7d6row11_col5\" class=\"data row11 col5\" >-0.0506561</td>\n",
       "                        <td id=\"T_76dd5eac_cf0d_11ea_800b_98460a9bb7d6row11_col6\" class=\"data row11 col6\" >-0.1851</td>\n",
       "                        <td id=\"T_76dd5eac_cf0d_11ea_800b_98460a9bb7d6row11_col7\" class=\"data row11 col7\" >-0.174919</td>\n",
       "                        <td id=\"T_76dd5eac_cf0d_11ea_800b_98460a9bb7d6row11_col8\" class=\"data row11 col8\" >-0.0577314</td>\n",
       "                        <td id=\"T_76dd5eac_cf0d_11ea_800b_98460a9bb7d6row11_col9\" class=\"data row11 col9\" >0.251397</td>\n",
       "                        <td id=\"T_76dd5eac_cf0d_11ea_800b_98460a9bb7d6row11_col10\" class=\"data row11 col10\" >0.476166</td>\n",
       "                        <td id=\"T_76dd5eac_cf0d_11ea_800b_98460a9bb7d6row11_col11\" class=\"data row11 col11\" >1</td>\n",
       "            </tr>\n",
       "    </tbody></table>"
      ],
      "text/plain": [
       "<pandas.io.formats.style.Styler at 0x10d32d550>"
      ]
     },
     "execution_count": 33,
     "metadata": {},
     "output_type": "execute_result"
    }
   ],
   "source": [
    "corr_df.style.background_gradient(cmap='Blues')"
   ]
  },
  {
   "cell_type": "markdown",
   "metadata": {},
   "source": [
    "## Checking for Null values"
   ]
  },
  {
   "cell_type": "code",
   "execution_count": 9,
   "metadata": {
    "colab": {},
    "colab_type": "code",
    "id": "xyKiJP473t9-",
    "outputId": "76ed76ec-62fc-43e1-a4aa-10707ba6de48"
   },
   "outputs": [
    {
     "name": "stdout",
     "output_type": "stream",
     "text": [
      "+-------------+----------------+-----------+--------------+---------+-------------------+--------------------+-------+---+---------+-------+-------+\n",
      "|fixed acidity|volatile acidity|citric acid|residual sugar|chlorides|free sulfur dioxide|total sulfur dioxide|density| pH|sulphates|alcohol|quality|\n",
      "+-------------+----------------+-----------+--------------+---------+-------------------+--------------------+-------+---+---------+-------+-------+\n",
      "|            0|               0|          0|             0|        0|                  0|                   0|      0|  0|        0|      0|      0|\n",
      "+-------------+----------------+-----------+--------------+---------+-------------------+--------------------+-------+---+---------+-------+-------+\n",
      "\n"
     ]
    }
   ],
   "source": [
    "from pyspark.sql.functions import col, count, isnan, when\n",
    "#checking for null ir nan type values in our columns\n",
    "new_data.select([count(when(col(c).isNull(), c)).alias(c) for c in new_data.columns]).show()"
   ]
  },
  {
   "cell_type": "markdown",
   "metadata": {},
   "source": [
    "## Vector Assembler"
   ]
  },
  {
   "cell_type": "code",
   "execution_count": 10,
   "metadata": {
    "colab": {},
    "colab_type": "code",
    "id": "RyfyT9WG3t-C"
   },
   "outputs": [],
   "source": [
    "cols=new_data.columns\n",
    "cols.remove(\"quality\")\n",
    "assembler = VectorAssembler(inputCols=cols,outputCol=\"features\")\n",
    "# Now let us use the transform method to transform our dataset\n",
    "data=assembler.transform(new_data)\n",
    "data = data.select(\"features\",'quality')"
   ]
  },
  {
   "cell_type": "code",
   "execution_count": 11,
   "metadata": {},
   "outputs": [
    {
     "name": "stdout",
     "output_type": "stream",
     "text": [
      "+--------------------+-------+\n",
      "|            features|quality|\n",
      "+--------------------+-------+\n",
      "|[7.40000009536743...|    5.0|\n",
      "|[7.80000019073486...|    5.0|\n",
      "|[7.80000019073486...|    5.0|\n",
      "|[11.1999998092651...|    6.0|\n",
      "|[7.40000009536743...|    5.0|\n",
      "+--------------------+-------+\n",
      "only showing top 5 rows\n",
      "\n"
     ]
    }
   ],
   "source": [
    "data.show(5)"
   ]
  },
  {
   "cell_type": "markdown",
   "metadata": {},
   "source": [
    "## Label Encode the output column"
   ]
  },
  {
   "cell_type": "code",
   "execution_count": 12,
   "metadata": {},
   "outputs": [],
   "source": [
    "stringIndexer = StringIndexer(inputCol=\"quality\", outputCol=\"quality_index\")\n",
    "data_indexed = stringIndexer.fit(data).transform(data)"
   ]
  },
  {
   "cell_type": "code",
   "execution_count": 13,
   "metadata": {},
   "outputs": [
    {
     "name": "stdout",
     "output_type": "stream",
     "text": [
      "+--------------------+-------+-------------+\n",
      "|            features|quality|quality_index|\n",
      "+--------------------+-------+-------------+\n",
      "|[7.40000009536743...|    5.0|          0.0|\n",
      "|[7.80000019073486...|    5.0|          0.0|\n",
      "|[7.80000019073486...|    5.0|          0.0|\n",
      "|[11.1999998092651...|    6.0|          1.0|\n",
      "|[7.40000009536743...|    5.0|          0.0|\n",
      "|[7.40000009536743...|    5.0|          0.0|\n",
      "|[7.90000009536743...|    5.0|          0.0|\n",
      "|[7.30000019073486...|    7.0|          2.0|\n",
      "|[7.80000019073486...|    7.0|          2.0|\n",
      "|[7.5,0.5,0.360000...|    5.0|          0.0|\n",
      "|[6.69999980926513...|    5.0|          0.0|\n",
      "|[7.5,0.5,0.360000...|    5.0|          0.0|\n",
      "|[5.59999990463256...|    5.0|          0.0|\n",
      "|[7.80000019073486...|    5.0|          0.0|\n",
      "|[8.89999961853027...|    5.0|          0.0|\n",
      "|[8.89999961853027...|    5.0|          0.0|\n",
      "|[8.5,0.2800000011...|    7.0|          2.0|\n",
      "|[8.10000038146972...|    5.0|          0.0|\n",
      "|[7.40000009536743...|    4.0|          3.0|\n",
      "|[7.90000009536743...|    6.0|          1.0|\n",
      "+--------------------+-------+-------------+\n",
      "only showing top 20 rows\n",
      "\n"
     ]
    }
   ],
   "source": [
    "data_indexed.show()"
   ]
  },
  {
   "cell_type": "markdown",
   "metadata": {},
   "source": [
    "## Train - Test split"
   ]
  },
  {
   "cell_type": "code",
   "execution_count": 14,
   "metadata": {
    "colab": {},
    "colab_type": "code",
    "id": "nbquFlSA3t-G"
   },
   "outputs": [],
   "source": [
    "(train, test) = data_indexed.randomSplit([0.7, 0.3])"
   ]
  },
  {
   "cell_type": "markdown",
   "metadata": {},
   "source": [
    "## Standard Scaling features"
   ]
  },
  {
   "cell_type": "code",
   "execution_count": 34,
   "metadata": {},
   "outputs": [],
   "source": [
    "from pyspark.ml.feature import StandardScaler\n",
    "from pyspark.ml.linalg import Vectors\n",
    "scaler = StandardScaler(inputCol=\"features\", outputCol=\"scaledFeatures\")\n",
    "scalerModel = scaler.fit(train)\n",
    "train_df_sc = scalerModel.transform(train)\n",
    "test_df_sc = scalerModel.transform(test)"
   ]
  },
  {
   "cell_type": "markdown",
   "metadata": {},
   "source": [
    "## Naive Bayes Classifier"
   ]
  },
  {
   "cell_type": "code",
   "execution_count": 35,
   "metadata": {
    "colab": {},
    "colab_type": "code",
    "id": "MogjEBXF3t-K"
   },
   "outputs": [],
   "source": [
    "naive_bayes = NaiveBayes(featuresCol='scaledFeatures',labelCol='quality_index',smoothing=1.0)"
   ]
  },
  {
   "cell_type": "code",
   "execution_count": 37,
   "metadata": {
    "colab": {},
    "colab_type": "code",
    "id": "zRljPwtR3t-M"
   },
   "outputs": [],
   "source": [
    "model = naive_bayes.fit(train_df_sc) "
   ]
  },
  {
   "cell_type": "code",
   "execution_count": 38,
   "metadata": {
    "colab": {},
    "colab_type": "code",
    "id": "FisBfLeV3t-P"
   },
   "outputs": [],
   "source": [
    "# select example rows to display.\n",
    "predictions = model.transform(test_df_sc)"
   ]
  },
  {
   "cell_type": "code",
   "execution_count": 42,
   "metadata": {
    "colab": {},
    "colab_type": "code",
    "id": "flHYysN83t-R",
    "outputId": "6fc22817-1f94-4914-904c-5aa113af83ee"
   },
   "outputs": [
    {
     "name": "stdout",
     "output_type": "stream",
     "text": [
      "+--------------------+-------+-------------+--------------------+--------------------+--------------------+----------+\n",
      "|            features|quality|quality_index|      scaledFeatures|       rawPrediction|         probability|prediction|\n",
      "+--------------------+-------+-------------+--------------------+--------------------+--------------------+----------+\n",
      "|[4.90000009536743...|    7.0|          2.0|[2.79767623385634...|[-262.36729889590...|[0.36268105737131...|       1.0|\n",
      "|[5.0,0.3799999952...|    6.0|          1.0|[2.85477161163867...|[-268.76797160764...|[0.43299340010681...|       1.0|\n",
      "|[5.0,0.4000000059...|    6.0|          1.0|[2.85477161163867...|[-291.05979755220...|[0.39923083061211...|       1.0|\n",
      "|[5.09999990463256...|    6.0|          1.0|[2.91186698942099...|[-257.37235092684...|[0.40882905204407...|       1.0|\n",
      "|[5.09999990463256...|    7.0|          2.0|[2.91186698942099...|[-274.95379627286...|[0.50771837288832...|       0.0|\n",
      "+--------------------+-------+-------------+--------------------+--------------------+--------------------+----------+\n",
      "only showing top 5 rows\n",
      "\n"
     ]
    }
   ],
   "source": [
    "predictions.show(5)"
   ]
  },
  {
   "cell_type": "code",
   "execution_count": 40,
   "metadata": {
    "colab": {},
    "colab_type": "code",
    "id": "MjSLm-L_3t-U"
   },
   "outputs": [],
   "source": [
    "# Select (prediction, true label) and compute test error\n",
    "evaluator = MulticlassClassificationEvaluator(\n",
    "    labelCol=\"quality_index\", predictionCol=\"prediction\", metricName=\"accuracy\")\n",
    "accuracy = evaluator.evaluate(predictions)\n"
   ]
  },
  {
   "cell_type": "code",
   "execution_count": 41,
   "metadata": {
    "colab": {},
    "colab_type": "code",
    "id": "i3vMvUBK3t-X",
    "outputId": "9d117e62-1128-4fcb-fccf-4d6286b42881"
   },
   "outputs": [
    {
     "name": "stdout",
     "output_type": "stream",
     "text": [
      "Accuracy 0.4734607218683652\n"
     ]
    }
   ],
   "source": [
    "print (\"Accuracy\",accuracy)"
   ]
  },
  {
   "cell_type": "markdown",
   "metadata": {},
   "source": [
    "## Random Forest Classifier"
   ]
  },
  {
   "cell_type": "code",
   "execution_count": 49,
   "metadata": {},
   "outputs": [],
   "source": [
    "from pyspark.ml.classification import RandomForestClassifier\n",
    "random_forest_classifier = RandomForestClassifier(labelCol=\"quality_index\", featuresCol=\"scaledFeatures\", numTrees=100)\n",
    "model = random_forest_classifier.fit(train_df_sc)\n",
    "predictions = model.transform(test_df_sc)"
   ]
  },
  {
   "cell_type": "code",
   "execution_count": 50,
   "metadata": {},
   "outputs": [
    {
     "name": "stdout",
     "output_type": "stream",
     "text": [
      "+--------------------+-------+-------------+--------------------+--------------------+--------------------+----------+\n",
      "|            features|quality|quality_index|      scaledFeatures|       rawPrediction|         probability|prediction|\n",
      "+--------------------+-------+-------------+--------------------+--------------------+--------------------+----------+\n",
      "|[4.90000009536743...|    7.0|          2.0|[2.79767623385634...|[12.1716008069178...|[0.12171600806917...|       1.0|\n",
      "|[5.0,0.3799999952...|    6.0|          1.0|[2.85477161163867...|[10.6486147548880...|[0.10648614754888...|       1.0|\n",
      "|[5.0,0.4000000059...|    6.0|          1.0|[2.85477161163867...|[13.0231324675434...|[0.13023132467543...|       1.0|\n",
      "|[5.09999990463256...|    6.0|          1.0|[2.91186698942099...|[17.0734262154011...|[0.17073426215401...|       1.0|\n",
      "|[5.09999990463256...|    7.0|          2.0|[2.91186698942099...|[14.6131621003241...|[0.14613162100324...|       1.0|\n",
      "+--------------------+-------+-------------+--------------------+--------------------+--------------------+----------+\n",
      "only showing top 5 rows\n",
      "\n"
     ]
    }
   ],
   "source": [
    "predictions.show(5)"
   ]
  },
  {
   "cell_type": "code",
   "execution_count": 51,
   "metadata": {},
   "outputs": [],
   "source": [
    "# Select (prediction, true label) and compute test error\n",
    "evaluator = MulticlassClassificationEvaluator(\n",
    "    labelCol=\"quality_index\", predictionCol=\"prediction\", metricName=\"accuracy\")\n",
    "accuracy = evaluator.evaluate(predictions)\n"
   ]
  },
  {
   "cell_type": "code",
   "execution_count": 52,
   "metadata": {},
   "outputs": [
    {
     "name": "stdout",
     "output_type": "stream",
     "text": [
      "Accuracy 0.6050955414012739\n"
     ]
    }
   ],
   "source": [
    "print (\"Accuracy\",accuracy)"
   ]
  },
  {
   "cell_type": "code",
   "execution_count": 53,
   "metadata": {
    "colab": {},
    "colab_type": "code",
    "id": "eIG7cU1l3t-b"
   },
   "outputs": [],
   "source": [
    "spark.stop()"
   ]
  },
  {
   "cell_type": "code",
   "execution_count": null,
   "metadata": {
    "colab": {},
    "colab_type": "code",
    "id": "CxVdvnrW3t-e"
   },
   "outputs": [],
   "source": []
  }
 ],
 "metadata": {
  "colab": {
   "name": "naiveBayes.ipynb",
   "provenance": []
  },
  "kernelspec": {
   "display_name": "Python 3",
   "language": "python",
   "name": "python3"
  },
  "language_info": {
   "codemirror_mode": {
    "name": "ipython",
    "version": 3
   },
   "file_extension": ".py",
   "mimetype": "text/x-python",
   "name": "python",
   "nbconvert_exporter": "python",
   "pygments_lexer": "ipython3",
   "version": "3.7.4"
  }
 },
 "nbformat": 4,
 "nbformat_minor": 1
}
